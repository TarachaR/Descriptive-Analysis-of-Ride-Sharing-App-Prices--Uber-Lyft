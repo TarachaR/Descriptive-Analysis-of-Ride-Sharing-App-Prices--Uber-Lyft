{
  "nbformat": 4,
  "nbformat_minor": 0,
  "metadata": {
    "kernelspec": {
      "display_name": "Python 3",
      "language": "python",
      "name": "python3"
    },
    "language_info": {
      "codemirror_mode": {
        "name": "ipython",
        "version": 3
      },
      "file_extension": ".py",
      "mimetype": "text/x-python",
      "name": "python",
      "nbconvert_exporter": "python",
      "pygments_lexer": "ipython3",
      "version": "3.7.4"
    },
    "colab": {
      "name": "Data Analysis and Reporting with SQL Project.ipynb",
      "provenance": [],
      "collapsed_sections": []
    }
  },
  "cells": [
    {
      "cell_type": "markdown",
      "metadata": {
        "id": "jgzzuFNhmlMB"
      },
      "source": [
        "## <font color='#2F4F4F'>1. Defining the Question</font>"
      ]
    },
    {
      "cell_type": "markdown",
      "metadata": {
        "id": "Tegr8ueimlMD"
      },
      "source": [
        "### a) Specifying the Data Analysis Question\n",
        "\n",
        "Create a descriptive analysis report that outlines the pricing patterns of the existing ride-sharing company."
      ]
    },
    {
      "cell_type": "markdown",
      "metadata": {
        "id": "L2Bg92R3mlMF"
      },
      "source": [
        "### b) Defining the Metric for Success\n",
        "\n",
        "The project will be a success when we are able to understand how pricing works."
      ]
    },
    {
      "cell_type": "markdown",
      "metadata": {
        "id": "2ZBVrPEbmlMG"
      },
      "source": [
        "### c) Understanding the Context \n",
        "\n",
        "Over the past few years, ride-sharing apps have been on the rise across many cities in the world. While this has happened, Uber and Lyft's ride prices are not constant like public transport. They are greatly affected by the demand and supply of rides at a given time.\n",
        "\n",
        "As a Data Scientist working to understand this market, you have been tasked to come up with a descriptive analysis report to help a Ride-Sharing Startup coming into this space, understand the various patterns on how pricing works for the existing ride-sharing company."
      ]
    },
    {
      "cell_type": "markdown",
      "metadata": {
        "id": "W1ilTBTemlMH"
      },
      "source": [
        "### d) Recording the Experimental Design\n",
        "\n",
        "1. Load pandas and sqlite3\n",
        "2. Load datasets \n",
        "3. Perform data cleaning\n",
        "4. Transfer datasets to SQL table\n",
        "5. Carry out analysis using SQL\n",
        "6. Merge datasets and carry out further analysis\n",
        "6. Summarize findings.\n",
        "7. Provide recommendations.\n",
        "8. Challenge the solution."
      ]
    },
    {
      "cell_type": "markdown",
      "metadata": {
        "id": "3xFNQROGmlMJ"
      },
      "source": [
        "### e) Data Relevance\n",
        "\n",
        "The dataset provided is relevant to answering the research question."
      ]
    },
    {
      "cell_type": "markdown",
      "metadata": {
        "id": "niJd7-JDmlMK"
      },
      "source": [
        "## <font color='#2F4F4F'>2. Data Cleaning & Preparation</font>"
      ]
    },
    {
      "cell_type": "code",
      "metadata": {
        "id": "YFSJDlOxmlMM"
      },
      "source": [
        "# import Pandas and sqlite3\n",
        "import pandas as pd\n",
        "import sqlite3"
      ],
      "execution_count": 36,
      "outputs": []
    },
    {
      "cell_type": "code",
      "metadata": {
        "id": "_OXhykIKmlMS",
        "outputId": "9961f5f2-ddb6-46e1-fc6b-76c9ee7af62e",
        "colab": {
          "base_uri": "https://localhost:8080/",
          "height": 69
        }
      },
      "source": [
        "# load SQL extension\n",
        "%load_ext sql\n",
        "%sql sqlite:///testdb.sqlite"
      ],
      "execution_count": 37,
      "outputs": [
        {
          "output_type": "stream",
          "text": [
            "The sql extension is already loaded. To reload it, use:\n",
            "  %reload_ext sql\n"
          ],
          "name": "stdout"
        },
        {
          "output_type": "execute_result",
          "data": {
            "application/vnd.google.colaboratory.intrinsic+json": {
              "type": "string"
            },
            "text/plain": [
              "'Connected: @testdb.sqlite'"
            ]
          },
          "metadata": {
            "tags": []
          },
          "execution_count": 37
        }
      ]
    },
    {
      "cell_type": "code",
      "metadata": {
        "id": "aJcEizsuD_42",
        "outputId": "3d725f7a-7690-458d-dec5-77ca8a44b9f0",
        "colab": {
          "base_uri": "https://localhost:8080/"
        }
      },
      "source": [
        "from google.colab import drive\n",
        "drive.mount('/content/drive')"
      ],
      "execution_count": 10,
      "outputs": [
        {
          "output_type": "stream",
          "text": [
            "Mounted at /content/drive\n"
          ],
          "name": "stdout"
        }
      ]
    },
    {
      "cell_type": "code",
      "metadata": {
        "id": "-47YsGgtmlMX",
        "outputId": "079fa8ae-0424-4d71-c01d-05a69b93974e",
        "colab": {
          "base_uri": "https://localhost:8080/",
          "height": 204
        }
      },
      "source": [
        "# load and preview cab dataset\n",
        "cab = pd.read_csv('/content/drive/My Drive/Colab Notebooks/AfterWork Data Science Fellowship/Week 3/Projects/Data Analysis and Reporting with SQL Project /cabs_dataset.csv', sep = ',')\n",
        "cab.head()\n",
        "\n",
        "cab.drop(['Unnamed: 0'], axis=1, inplace=True)\n",
        "\n",
        "cab.head()"
      ],
      "execution_count": 25,
      "outputs": [
        {
          "output_type": "execute_result",
          "data": {
            "text/html": [
              "<div>\n",
              "<style scoped>\n",
              "    .dataframe tbody tr th:only-of-type {\n",
              "        vertical-align: middle;\n",
              "    }\n",
              "\n",
              "    .dataframe tbody tr th {\n",
              "        vertical-align: top;\n",
              "    }\n",
              "\n",
              "    .dataframe thead th {\n",
              "        text-align: right;\n",
              "    }\n",
              "</style>\n",
              "<table border=\"1\" class=\"dataframe\">\n",
              "  <thead>\n",
              "    <tr style=\"text-align: right;\">\n",
              "      <th></th>\n",
              "      <th>distance</th>\n",
              "      <th>cab_type</th>\n",
              "      <th>time_stamp</th>\n",
              "      <th>destination</th>\n",
              "      <th>source</th>\n",
              "      <th>price</th>\n",
              "      <th>surge_multiplier</th>\n",
              "      <th>id</th>\n",
              "      <th>product_id</th>\n",
              "      <th>name</th>\n",
              "    </tr>\n",
              "  </thead>\n",
              "  <tbody>\n",
              "    <tr>\n",
              "      <th>0</th>\n",
              "      <td>0.44</td>\n",
              "      <td>Lyft</td>\n",
              "      <td>2018-12-16 09:30:07.890</td>\n",
              "      <td>North Station</td>\n",
              "      <td>Haymarket Square</td>\n",
              "      <td>5.0</td>\n",
              "      <td>1.0</td>\n",
              "      <td>424553bb-7174-41ea-aeb4-fe06d4f4b9d7</td>\n",
              "      <td>lyft_line</td>\n",
              "      <td>Shared</td>\n",
              "    </tr>\n",
              "    <tr>\n",
              "      <th>1</th>\n",
              "      <td>0.44</td>\n",
              "      <td>Lyft</td>\n",
              "      <td>2018-11-27 02:00:23.677</td>\n",
              "      <td>North Station</td>\n",
              "      <td>Haymarket Square</td>\n",
              "      <td>11.0</td>\n",
              "      <td>1.0</td>\n",
              "      <td>4bd23055-6827-41c6-b23b-3c491f24e74d</td>\n",
              "      <td>lyft_premier</td>\n",
              "      <td>Lux</td>\n",
              "    </tr>\n",
              "    <tr>\n",
              "      <th>2</th>\n",
              "      <td>0.44</td>\n",
              "      <td>Lyft</td>\n",
              "      <td>2018-11-28 01:00:22.198</td>\n",
              "      <td>North Station</td>\n",
              "      <td>Haymarket Square</td>\n",
              "      <td>7.0</td>\n",
              "      <td>1.0</td>\n",
              "      <td>981a3613-77af-4620-a42a-0c0866077d1e</td>\n",
              "      <td>lyft</td>\n",
              "      <td>Lyft</td>\n",
              "    </tr>\n",
              "    <tr>\n",
              "      <th>3</th>\n",
              "      <td>0.44</td>\n",
              "      <td>Lyft</td>\n",
              "      <td>2018-11-30 04:53:02.749</td>\n",
              "      <td>North Station</td>\n",
              "      <td>Haymarket Square</td>\n",
              "      <td>26.0</td>\n",
              "      <td>1.0</td>\n",
              "      <td>c2d88af2-d278-4bfd-a8d0-29ca77cc5512</td>\n",
              "      <td>lyft_luxsuv</td>\n",
              "      <td>Lux Black XL</td>\n",
              "    </tr>\n",
              "    <tr>\n",
              "      <th>4</th>\n",
              "      <td>0.44</td>\n",
              "      <td>Lyft</td>\n",
              "      <td>2018-11-29 03:49:20.223</td>\n",
              "      <td>North Station</td>\n",
              "      <td>Haymarket Square</td>\n",
              "      <td>9.0</td>\n",
              "      <td>1.0</td>\n",
              "      <td>e0126e1f-8ca9-4f2e-82b3-50505a09db9a</td>\n",
              "      <td>lyft_plus</td>\n",
              "      <td>Lyft XL</td>\n",
              "    </tr>\n",
              "  </tbody>\n",
              "</table>\n",
              "</div>"
            ],
            "text/plain": [
              "   distance cab_type  ...    product_id          name\n",
              "0      0.44     Lyft  ...     lyft_line        Shared\n",
              "1      0.44     Lyft  ...  lyft_premier           Lux\n",
              "2      0.44     Lyft  ...          lyft          Lyft\n",
              "3      0.44     Lyft  ...   lyft_luxsuv  Lux Black XL\n",
              "4      0.44     Lyft  ...     lyft_plus       Lyft XL\n",
              "\n",
              "[5 rows x 10 columns]"
            ]
          },
          "metadata": {
            "tags": []
          },
          "execution_count": 25
        }
      ]
    },
    {
      "cell_type": "code",
      "metadata": {
        "id": "yhq8EdGeJXjp",
        "outputId": "ca2d50ce-9a0a-4358-9c20-1b3ca9da0df5",
        "colab": {
          "base_uri": "https://localhost:8080/",
          "height": 204
        }
      },
      "source": [
        "# set the 'time_stamp' column into datetime datatype\n",
        "cab['time_stamp'] = pd.to_datetime(cab['time_stamp'])\n",
        "cab.head()"
      ],
      "execution_count": 29,
      "outputs": [
        {
          "output_type": "execute_result",
          "data": {
            "text/html": [
              "<div>\n",
              "<style scoped>\n",
              "    .dataframe tbody tr th:only-of-type {\n",
              "        vertical-align: middle;\n",
              "    }\n",
              "\n",
              "    .dataframe tbody tr th {\n",
              "        vertical-align: top;\n",
              "    }\n",
              "\n",
              "    .dataframe thead th {\n",
              "        text-align: right;\n",
              "    }\n",
              "</style>\n",
              "<table border=\"1\" class=\"dataframe\">\n",
              "  <thead>\n",
              "    <tr style=\"text-align: right;\">\n",
              "      <th></th>\n",
              "      <th>distance</th>\n",
              "      <th>cab_type</th>\n",
              "      <th>time_stamp</th>\n",
              "      <th>destination</th>\n",
              "      <th>source</th>\n",
              "      <th>price</th>\n",
              "      <th>surge_multiplier</th>\n",
              "      <th>id</th>\n",
              "      <th>product_id</th>\n",
              "      <th>name</th>\n",
              "    </tr>\n",
              "  </thead>\n",
              "  <tbody>\n",
              "    <tr>\n",
              "      <th>0</th>\n",
              "      <td>0.44</td>\n",
              "      <td>Lyft</td>\n",
              "      <td>2018-12-16 09:30:07.890</td>\n",
              "      <td>North Station</td>\n",
              "      <td>Haymarket Square</td>\n",
              "      <td>5.0</td>\n",
              "      <td>1.0</td>\n",
              "      <td>424553bb-7174-41ea-aeb4-fe06d4f4b9d7</td>\n",
              "      <td>lyft_line</td>\n",
              "      <td>Shared</td>\n",
              "    </tr>\n",
              "    <tr>\n",
              "      <th>1</th>\n",
              "      <td>0.44</td>\n",
              "      <td>Lyft</td>\n",
              "      <td>2018-11-27 02:00:23.677</td>\n",
              "      <td>North Station</td>\n",
              "      <td>Haymarket Square</td>\n",
              "      <td>11.0</td>\n",
              "      <td>1.0</td>\n",
              "      <td>4bd23055-6827-41c6-b23b-3c491f24e74d</td>\n",
              "      <td>lyft_premier</td>\n",
              "      <td>Lux</td>\n",
              "    </tr>\n",
              "    <tr>\n",
              "      <th>2</th>\n",
              "      <td>0.44</td>\n",
              "      <td>Lyft</td>\n",
              "      <td>2018-11-28 01:00:22.198</td>\n",
              "      <td>North Station</td>\n",
              "      <td>Haymarket Square</td>\n",
              "      <td>7.0</td>\n",
              "      <td>1.0</td>\n",
              "      <td>981a3613-77af-4620-a42a-0c0866077d1e</td>\n",
              "      <td>lyft</td>\n",
              "      <td>Lyft</td>\n",
              "    </tr>\n",
              "    <tr>\n",
              "      <th>3</th>\n",
              "      <td>0.44</td>\n",
              "      <td>Lyft</td>\n",
              "      <td>2018-11-30 04:53:02.749</td>\n",
              "      <td>North Station</td>\n",
              "      <td>Haymarket Square</td>\n",
              "      <td>26.0</td>\n",
              "      <td>1.0</td>\n",
              "      <td>c2d88af2-d278-4bfd-a8d0-29ca77cc5512</td>\n",
              "      <td>lyft_luxsuv</td>\n",
              "      <td>Lux Black XL</td>\n",
              "    </tr>\n",
              "    <tr>\n",
              "      <th>4</th>\n",
              "      <td>0.44</td>\n",
              "      <td>Lyft</td>\n",
              "      <td>2018-11-29 03:49:20.223</td>\n",
              "      <td>North Station</td>\n",
              "      <td>Haymarket Square</td>\n",
              "      <td>9.0</td>\n",
              "      <td>1.0</td>\n",
              "      <td>e0126e1f-8ca9-4f2e-82b3-50505a09db9a</td>\n",
              "      <td>lyft_plus</td>\n",
              "      <td>Lyft XL</td>\n",
              "    </tr>\n",
              "  </tbody>\n",
              "</table>\n",
              "</div>"
            ],
            "text/plain": [
              "   distance cab_type  ...    product_id          name\n",
              "0      0.44     Lyft  ...     lyft_line        Shared\n",
              "1      0.44     Lyft  ...  lyft_premier           Lux\n",
              "2      0.44     Lyft  ...          lyft          Lyft\n",
              "3      0.44     Lyft  ...   lyft_luxsuv  Lux Black XL\n",
              "4      0.44     Lyft  ...     lyft_plus       Lyft XL\n",
              "\n",
              "[5 rows x 10 columns]"
            ]
          },
          "metadata": {
            "tags": []
          },
          "execution_count": 29
        }
      ]
    },
    {
      "cell_type": "code",
      "metadata": {
        "id": "ao7nQQXlmlMj",
        "outputId": "541673d9-3dcc-4a21-f305-5b8b81207b98",
        "colab": {
          "base_uri": "https://localhost:8080/",
          "height": 306
        }
      },
      "source": [
        "# retrieve month, day, hour, and minute from time_stamp\n",
        "\n",
        "cab['month'] = cab['time_stamp'].map(lambda x : x.month)\n",
        "cab['day'] = cab['time_stamp'].map(lambda x : x.day)\n",
        "cab['hour'] = cab['time_stamp'].map(lambda x : x.hour)\n",
        "cab['minute'] = cab['time_stamp'].map(lambda x : x.minute)\n",
        "cab.head()"
      ],
      "execution_count": 30,
      "outputs": [
        {
          "output_type": "execute_result",
          "data": {
            "text/html": [
              "<div>\n",
              "<style scoped>\n",
              "    .dataframe tbody tr th:only-of-type {\n",
              "        vertical-align: middle;\n",
              "    }\n",
              "\n",
              "    .dataframe tbody tr th {\n",
              "        vertical-align: top;\n",
              "    }\n",
              "\n",
              "    .dataframe thead th {\n",
              "        text-align: right;\n",
              "    }\n",
              "</style>\n",
              "<table border=\"1\" class=\"dataframe\">\n",
              "  <thead>\n",
              "    <tr style=\"text-align: right;\">\n",
              "      <th></th>\n",
              "      <th>distance</th>\n",
              "      <th>cab_type</th>\n",
              "      <th>time_stamp</th>\n",
              "      <th>destination</th>\n",
              "      <th>source</th>\n",
              "      <th>price</th>\n",
              "      <th>surge_multiplier</th>\n",
              "      <th>id</th>\n",
              "      <th>product_id</th>\n",
              "      <th>name</th>\n",
              "      <th>month</th>\n",
              "      <th>day</th>\n",
              "      <th>hour</th>\n",
              "      <th>minute</th>\n",
              "    </tr>\n",
              "  </thead>\n",
              "  <tbody>\n",
              "    <tr>\n",
              "      <th>0</th>\n",
              "      <td>0.44</td>\n",
              "      <td>Lyft</td>\n",
              "      <td>2018-12-16 09:30:07.890</td>\n",
              "      <td>North Station</td>\n",
              "      <td>Haymarket Square</td>\n",
              "      <td>5.0</td>\n",
              "      <td>1.0</td>\n",
              "      <td>424553bb-7174-41ea-aeb4-fe06d4f4b9d7</td>\n",
              "      <td>lyft_line</td>\n",
              "      <td>Shared</td>\n",
              "      <td>12</td>\n",
              "      <td>16</td>\n",
              "      <td>9</td>\n",
              "      <td>30</td>\n",
              "    </tr>\n",
              "    <tr>\n",
              "      <th>1</th>\n",
              "      <td>0.44</td>\n",
              "      <td>Lyft</td>\n",
              "      <td>2018-11-27 02:00:23.677</td>\n",
              "      <td>North Station</td>\n",
              "      <td>Haymarket Square</td>\n",
              "      <td>11.0</td>\n",
              "      <td>1.0</td>\n",
              "      <td>4bd23055-6827-41c6-b23b-3c491f24e74d</td>\n",
              "      <td>lyft_premier</td>\n",
              "      <td>Lux</td>\n",
              "      <td>11</td>\n",
              "      <td>27</td>\n",
              "      <td>2</td>\n",
              "      <td>0</td>\n",
              "    </tr>\n",
              "    <tr>\n",
              "      <th>2</th>\n",
              "      <td>0.44</td>\n",
              "      <td>Lyft</td>\n",
              "      <td>2018-11-28 01:00:22.198</td>\n",
              "      <td>North Station</td>\n",
              "      <td>Haymarket Square</td>\n",
              "      <td>7.0</td>\n",
              "      <td>1.0</td>\n",
              "      <td>981a3613-77af-4620-a42a-0c0866077d1e</td>\n",
              "      <td>lyft</td>\n",
              "      <td>Lyft</td>\n",
              "      <td>11</td>\n",
              "      <td>28</td>\n",
              "      <td>1</td>\n",
              "      <td>0</td>\n",
              "    </tr>\n",
              "    <tr>\n",
              "      <th>3</th>\n",
              "      <td>0.44</td>\n",
              "      <td>Lyft</td>\n",
              "      <td>2018-11-30 04:53:02.749</td>\n",
              "      <td>North Station</td>\n",
              "      <td>Haymarket Square</td>\n",
              "      <td>26.0</td>\n",
              "      <td>1.0</td>\n",
              "      <td>c2d88af2-d278-4bfd-a8d0-29ca77cc5512</td>\n",
              "      <td>lyft_luxsuv</td>\n",
              "      <td>Lux Black XL</td>\n",
              "      <td>11</td>\n",
              "      <td>30</td>\n",
              "      <td>4</td>\n",
              "      <td>53</td>\n",
              "    </tr>\n",
              "    <tr>\n",
              "      <th>4</th>\n",
              "      <td>0.44</td>\n",
              "      <td>Lyft</td>\n",
              "      <td>2018-11-29 03:49:20.223</td>\n",
              "      <td>North Station</td>\n",
              "      <td>Haymarket Square</td>\n",
              "      <td>9.0</td>\n",
              "      <td>1.0</td>\n",
              "      <td>e0126e1f-8ca9-4f2e-82b3-50505a09db9a</td>\n",
              "      <td>lyft_plus</td>\n",
              "      <td>Lyft XL</td>\n",
              "      <td>11</td>\n",
              "      <td>29</td>\n",
              "      <td>3</td>\n",
              "      <td>49</td>\n",
              "    </tr>\n",
              "  </tbody>\n",
              "</table>\n",
              "</div>"
            ],
            "text/plain": [
              "   distance cab_type              time_stamp  ... day hour  minute\n",
              "0      0.44     Lyft 2018-12-16 09:30:07.890  ...  16    9      30\n",
              "1      0.44     Lyft 2018-11-27 02:00:23.677  ...  27    2       0\n",
              "2      0.44     Lyft 2018-11-28 01:00:22.198  ...  28    1       0\n",
              "3      0.44     Lyft 2018-11-30 04:53:02.749  ...  30    4      53\n",
              "4      0.44     Lyft 2018-11-29 03:49:20.223  ...  29    3      49\n",
              "\n",
              "[5 rows x 14 columns]"
            ]
          },
          "metadata": {
            "tags": []
          },
          "execution_count": 30
        }
      ]
    },
    {
      "cell_type": "code",
      "metadata": {
        "id": "kS1PDmb4mlMp",
        "outputId": "26fafacc-6be5-4b49-a59a-31e348c0cafd",
        "colab": {
          "base_uri": "https://localhost:8080/"
        }
      },
      "source": [
        "# Checking for duplicates\n",
        "\n",
        "cab.duplicated().sum()"
      ],
      "execution_count": 32,
      "outputs": [
        {
          "output_type": "execute_result",
          "data": {
            "text/plain": [
              "0"
            ]
          },
          "metadata": {
            "tags": []
          },
          "execution_count": 32
        }
      ]
    },
    {
      "cell_type": "code",
      "metadata": {
        "id": "B-IED2YCmlMw",
        "outputId": "d50edf2e-36d9-471e-a090-cf2fffc96d21",
        "colab": {
          "base_uri": "https://localhost:8080/"
        }
      },
      "source": [
        "# check for missing values\n",
        "cab.isna().sum()"
      ],
      "execution_count": 33,
      "outputs": [
        {
          "output_type": "execute_result",
          "data": {
            "text/plain": [
              "distance                0\n",
              "cab_type                0\n",
              "time_stamp              0\n",
              "destination             0\n",
              "source                  0\n",
              "price               55095\n",
              "surge_multiplier        0\n",
              "id                      0\n",
              "product_id              0\n",
              "name                    0\n",
              "month                   0\n",
              "day                     0\n",
              "hour                    0\n",
              "minute                  0\n",
              "dtype: int64"
            ]
          },
          "metadata": {
            "tags": []
          },
          "execution_count": 33
        }
      ]
    },
    {
      "cell_type": "code",
      "metadata": {
        "id": "5MFRuX3OmlM2",
        "outputId": "af52ccaa-1881-4d29-9dc2-88debdeb860a",
        "colab": {
          "base_uri": "https://localhost:8080/"
        }
      },
      "source": [
        "# drop the records with the missing values\n",
        "cab = cab.dropna(axis = 0)\n",
        "cab.shape"
      ],
      "execution_count": 34,
      "outputs": [
        {
          "output_type": "execute_result",
          "data": {
            "text/plain": [
              "(637976, 14)"
            ]
          },
          "metadata": {
            "tags": []
          },
          "execution_count": 34
        }
      ]
    },
    {
      "cell_type": "code",
      "metadata": {
        "id": "kDLVJoACmlM7",
        "outputId": "acf6401f-aaad-4fbe-cdaf-601cfce6120a",
        "colab": {
          "base_uri": "https://localhost:8080/"
        }
      },
      "source": [
        "cab.dtypes"
      ],
      "execution_count": 35,
      "outputs": [
        {
          "output_type": "execute_result",
          "data": {
            "text/plain": [
              "distance                   float64\n",
              "cab_type                    object\n",
              "time_stamp          datetime64[ns]\n",
              "destination                 object\n",
              "source                      object\n",
              "price                      float64\n",
              "surge_multiplier           float64\n",
              "id                          object\n",
              "product_id                  object\n",
              "name                        object\n",
              "month                        int64\n",
              "day                          int64\n",
              "hour                         int64\n",
              "minute                       int64\n",
              "dtype: object"
            ]
          },
          "metadata": {
            "tags": []
          },
          "execution_count": 35
        }
      ]
    },
    {
      "cell_type": "code",
      "metadata": {
        "id": "vszlmC_dpb68",
        "outputId": "83b2cff1-268e-455c-dd1d-451ad435f306",
        "colab": {
          "base_uri": "https://localhost:8080/"
        }
      },
      "source": [
        "%%sql\n",
        "DROP TABLE IF EXISTS cab;"
      ],
      "execution_count": 38,
      "outputs": [
        {
          "output_type": "stream",
          "text": [
            " * sqlite:///testdb.sqlite\n",
            "Done.\n"
          ],
          "name": "stdout"
        },
        {
          "output_type": "execute_result",
          "data": {
            "text/plain": [
              "[]"
            ]
          },
          "metadata": {
            "tags": []
          },
          "execution_count": 38
        }
      ]
    },
    {
      "cell_type": "code",
      "metadata": {
        "id": "HgZ5YYeUqqEm",
        "outputId": "23b1b5a2-f689-4729-8264-1ff523dad39e",
        "colab": {
          "base_uri": "https://localhost:8080/",
          "height": 52
        }
      },
      "source": [
        "%sql PERSIST cab;"
      ],
      "execution_count": 39,
      "outputs": [
        {
          "output_type": "stream",
          "text": [
            " * sqlite:///testdb.sqlite\n"
          ],
          "name": "stdout"
        },
        {
          "output_type": "execute_result",
          "data": {
            "application/vnd.google.colaboratory.intrinsic+json": {
              "type": "string"
            },
            "text/plain": [
              "'Persisted cab'"
            ]
          },
          "metadata": {
            "tags": []
          },
          "execution_count": 39
        }
      ]
    },
    {
      "cell_type": "code",
      "metadata": {
        "id": "ZiGRRM_pqK5t",
        "outputId": "2b47c791-72fa-4aad-c588-5498f6ac9d80",
        "colab": {
          "base_uri": "https://localhost:8080/",
          "height": 137
        }
      },
      "source": [
        "%%sql\n",
        "SELECT * FROM cab LIMIT 3;"
      ],
      "execution_count": 40,
      "outputs": [
        {
          "output_type": "stream",
          "text": [
            " * sqlite:///testdb.sqlite\n",
            "Done.\n"
          ],
          "name": "stdout"
        },
        {
          "output_type": "execute_result",
          "data": {
            "text/html": [
              "<table>\n",
              "    <tr>\n",
              "        <th>index</th>\n",
              "        <th>distance</th>\n",
              "        <th>cab_type</th>\n",
              "        <th>time_stamp</th>\n",
              "        <th>destination</th>\n",
              "        <th>source</th>\n",
              "        <th>price</th>\n",
              "        <th>surge_multiplier</th>\n",
              "        <th>id</th>\n",
              "        <th>product_id</th>\n",
              "        <th>name</th>\n",
              "        <th>month</th>\n",
              "        <th>day</th>\n",
              "        <th>hour</th>\n",
              "        <th>minute</th>\n",
              "    </tr>\n",
              "    <tr>\n",
              "        <td>0</td>\n",
              "        <td>0.44</td>\n",
              "        <td>Lyft</td>\n",
              "        <td>2018-12-16 09:30:07.890000</td>\n",
              "        <td>North Station</td>\n",
              "        <td>Haymarket Square</td>\n",
              "        <td>5.0</td>\n",
              "        <td>1.0</td>\n",
              "        <td>424553bb-7174-41ea-aeb4-fe06d4f4b9d7</td>\n",
              "        <td>lyft_line</td>\n",
              "        <td>Shared</td>\n",
              "        <td>12</td>\n",
              "        <td>16</td>\n",
              "        <td>9</td>\n",
              "        <td>30</td>\n",
              "    </tr>\n",
              "    <tr>\n",
              "        <td>1</td>\n",
              "        <td>0.44</td>\n",
              "        <td>Lyft</td>\n",
              "        <td>2018-11-27 02:00:23.677000</td>\n",
              "        <td>North Station</td>\n",
              "        <td>Haymarket Square</td>\n",
              "        <td>11.0</td>\n",
              "        <td>1.0</td>\n",
              "        <td>4bd23055-6827-41c6-b23b-3c491f24e74d</td>\n",
              "        <td>lyft_premier</td>\n",
              "        <td>Lux</td>\n",
              "        <td>11</td>\n",
              "        <td>27</td>\n",
              "        <td>2</td>\n",
              "        <td>0</td>\n",
              "    </tr>\n",
              "    <tr>\n",
              "        <td>2</td>\n",
              "        <td>0.44</td>\n",
              "        <td>Lyft</td>\n",
              "        <td>2018-11-28 01:00:22.198000</td>\n",
              "        <td>North Station</td>\n",
              "        <td>Haymarket Square</td>\n",
              "        <td>7.0</td>\n",
              "        <td>1.0</td>\n",
              "        <td>981a3613-77af-4620-a42a-0c0866077d1e</td>\n",
              "        <td>lyft</td>\n",
              "        <td>Lyft</td>\n",
              "        <td>11</td>\n",
              "        <td>28</td>\n",
              "        <td>1</td>\n",
              "        <td>0</td>\n",
              "    </tr>\n",
              "</table>"
            ],
            "text/plain": [
              "[(0, 0.44, 'Lyft', '2018-12-16 09:30:07.890000', 'North Station', 'Haymarket Square', 5.0, 1.0, '424553bb-7174-41ea-aeb4-fe06d4f4b9d7', 'lyft_line', 'Shared', 12, 16, 9, 30),\n",
              " (1, 0.44, 'Lyft', '2018-11-27 02:00:23.677000', 'North Station', 'Haymarket Square', 11.0, 1.0, '4bd23055-6827-41c6-b23b-3c491f24e74d', 'lyft_premier', 'Lux', 11, 27, 2, 0),\n",
              " (2, 0.44, 'Lyft', '2018-11-28 01:00:22.198000', 'North Station', 'Haymarket Square', 7.0, 1.0, '981a3613-77af-4620-a42a-0c0866077d1e', 'lyft', 'Lyft', 11, 28, 1, 0)]"
            ]
          },
          "metadata": {
            "tags": []
          },
          "execution_count": 40
        }
      ]
    },
    {
      "cell_type": "code",
      "metadata": {
        "scrolled": true,
        "id": "SMCkQ73emlNJ",
        "outputId": "d3cf0f2a-c438-44a0-c9f8-402a3da457e3",
        "colab": {
          "base_uri": "https://localhost:8080/",
          "height": 204
        }
      },
      "source": [
        "# load and preview weather dataset\n",
        "weather = pd.read_csv('/content/drive/My Drive/Colab Notebooks/AfterWork Data Science Fellowship/Week 3/Projects/Data Analysis and Reporting with SQL Project /weather.csv')\n",
        "weather.head()\n",
        "\n",
        "weather.drop(['Unnamed: 0'], axis = 1, inplace=True)\n",
        "\n",
        "weather.head()"
      ],
      "execution_count": 42,
      "outputs": [
        {
          "output_type": "execute_result",
          "data": {
            "text/html": [
              "<div>\n",
              "<style scoped>\n",
              "    .dataframe tbody tr th:only-of-type {\n",
              "        vertical-align: middle;\n",
              "    }\n",
              "\n",
              "    .dataframe tbody tr th {\n",
              "        vertical-align: top;\n",
              "    }\n",
              "\n",
              "    .dataframe thead th {\n",
              "        text-align: right;\n",
              "    }\n",
              "</style>\n",
              "<table border=\"1\" class=\"dataframe\">\n",
              "  <thead>\n",
              "    <tr style=\"text-align: right;\">\n",
              "      <th></th>\n",
              "      <th>temp</th>\n",
              "      <th>location</th>\n",
              "      <th>clouds</th>\n",
              "      <th>pressure</th>\n",
              "      <th>rain</th>\n",
              "      <th>time_stamp</th>\n",
              "      <th>humidity</th>\n",
              "      <th>wind</th>\n",
              "    </tr>\n",
              "  </thead>\n",
              "  <tbody>\n",
              "    <tr>\n",
              "      <th>0</th>\n",
              "      <td>42.42</td>\n",
              "      <td>Back Bay</td>\n",
              "      <td>1.0</td>\n",
              "      <td>1012.14</td>\n",
              "      <td>0.1228</td>\n",
              "      <td>2018-12-16 23:45:01</td>\n",
              "      <td>0.77</td>\n",
              "      <td>11.25</td>\n",
              "    </tr>\n",
              "    <tr>\n",
              "      <th>1</th>\n",
              "      <td>42.43</td>\n",
              "      <td>Beacon Hill</td>\n",
              "      <td>1.0</td>\n",
              "      <td>1012.15</td>\n",
              "      <td>0.1846</td>\n",
              "      <td>2018-12-16 23:45:01</td>\n",
              "      <td>0.76</td>\n",
              "      <td>11.32</td>\n",
              "    </tr>\n",
              "    <tr>\n",
              "      <th>2</th>\n",
              "      <td>42.50</td>\n",
              "      <td>Boston University</td>\n",
              "      <td>1.0</td>\n",
              "      <td>1012.15</td>\n",
              "      <td>0.1089</td>\n",
              "      <td>2018-12-16 23:45:01</td>\n",
              "      <td>0.76</td>\n",
              "      <td>11.07</td>\n",
              "    </tr>\n",
              "    <tr>\n",
              "      <th>3</th>\n",
              "      <td>42.11</td>\n",
              "      <td>Fenway</td>\n",
              "      <td>1.0</td>\n",
              "      <td>1012.13</td>\n",
              "      <td>0.0969</td>\n",
              "      <td>2018-12-16 23:45:01</td>\n",
              "      <td>0.77</td>\n",
              "      <td>11.09</td>\n",
              "    </tr>\n",
              "    <tr>\n",
              "      <th>4</th>\n",
              "      <td>43.13</td>\n",
              "      <td>Financial District</td>\n",
              "      <td>1.0</td>\n",
              "      <td>1012.14</td>\n",
              "      <td>0.1786</td>\n",
              "      <td>2018-12-16 23:45:01</td>\n",
              "      <td>0.75</td>\n",
              "      <td>11.49</td>\n",
              "    </tr>\n",
              "  </tbody>\n",
              "</table>\n",
              "</div>"
            ],
            "text/plain": [
              "    temp            location  clouds  ...           time_stamp  humidity   wind\n",
              "0  42.42            Back Bay     1.0  ...  2018-12-16 23:45:01      0.77  11.25\n",
              "1  42.43         Beacon Hill     1.0  ...  2018-12-16 23:45:01      0.76  11.32\n",
              "2  42.50   Boston University     1.0  ...  2018-12-16 23:45:01      0.76  11.07\n",
              "3  42.11              Fenway     1.0  ...  2018-12-16 23:45:01      0.77  11.09\n",
              "4  43.13  Financial District     1.0  ...  2018-12-16 23:45:01      0.75  11.49\n",
              "\n",
              "[5 rows x 8 columns]"
            ]
          },
          "metadata": {
            "tags": []
          },
          "execution_count": 42
        }
      ]
    },
    {
      "cell_type": "code",
      "metadata": {
        "id": "nxwn8J1gmlNN",
        "outputId": "c34a5951-8dee-4b86-ef7d-af22725ddc11",
        "colab": {
          "base_uri": "https://localhost:8080/",
          "height": 204
        }
      },
      "source": [
        "# set the 'time_stamp' column into datetime datatype\n",
        "weather['time_stamp'] = pd.to_datetime(weather['time_stamp'])\n",
        "weather.head()"
      ],
      "execution_count": 45,
      "outputs": [
        {
          "output_type": "execute_result",
          "data": {
            "text/html": [
              "<div>\n",
              "<style scoped>\n",
              "    .dataframe tbody tr th:only-of-type {\n",
              "        vertical-align: middle;\n",
              "    }\n",
              "\n",
              "    .dataframe tbody tr th {\n",
              "        vertical-align: top;\n",
              "    }\n",
              "\n",
              "    .dataframe thead th {\n",
              "        text-align: right;\n",
              "    }\n",
              "</style>\n",
              "<table border=\"1\" class=\"dataframe\">\n",
              "  <thead>\n",
              "    <tr style=\"text-align: right;\">\n",
              "      <th></th>\n",
              "      <th>temp</th>\n",
              "      <th>location</th>\n",
              "      <th>clouds</th>\n",
              "      <th>pressure</th>\n",
              "      <th>rain</th>\n",
              "      <th>time_stamp</th>\n",
              "      <th>humidity</th>\n",
              "      <th>wind</th>\n",
              "    </tr>\n",
              "  </thead>\n",
              "  <tbody>\n",
              "    <tr>\n",
              "      <th>0</th>\n",
              "      <td>42.42</td>\n",
              "      <td>Back Bay</td>\n",
              "      <td>1.0</td>\n",
              "      <td>1012.14</td>\n",
              "      <td>0.1228</td>\n",
              "      <td>2018-12-16 23:45:01</td>\n",
              "      <td>0.77</td>\n",
              "      <td>11.25</td>\n",
              "    </tr>\n",
              "    <tr>\n",
              "      <th>1</th>\n",
              "      <td>42.43</td>\n",
              "      <td>Beacon Hill</td>\n",
              "      <td>1.0</td>\n",
              "      <td>1012.15</td>\n",
              "      <td>0.1846</td>\n",
              "      <td>2018-12-16 23:45:01</td>\n",
              "      <td>0.76</td>\n",
              "      <td>11.32</td>\n",
              "    </tr>\n",
              "    <tr>\n",
              "      <th>2</th>\n",
              "      <td>42.50</td>\n",
              "      <td>Boston University</td>\n",
              "      <td>1.0</td>\n",
              "      <td>1012.15</td>\n",
              "      <td>0.1089</td>\n",
              "      <td>2018-12-16 23:45:01</td>\n",
              "      <td>0.76</td>\n",
              "      <td>11.07</td>\n",
              "    </tr>\n",
              "    <tr>\n",
              "      <th>3</th>\n",
              "      <td>42.11</td>\n",
              "      <td>Fenway</td>\n",
              "      <td>1.0</td>\n",
              "      <td>1012.13</td>\n",
              "      <td>0.0969</td>\n",
              "      <td>2018-12-16 23:45:01</td>\n",
              "      <td>0.77</td>\n",
              "      <td>11.09</td>\n",
              "    </tr>\n",
              "    <tr>\n",
              "      <th>4</th>\n",
              "      <td>43.13</td>\n",
              "      <td>Financial District</td>\n",
              "      <td>1.0</td>\n",
              "      <td>1012.14</td>\n",
              "      <td>0.1786</td>\n",
              "      <td>2018-12-16 23:45:01</td>\n",
              "      <td>0.75</td>\n",
              "      <td>11.49</td>\n",
              "    </tr>\n",
              "  </tbody>\n",
              "</table>\n",
              "</div>"
            ],
            "text/plain": [
              "    temp            location  clouds  ...          time_stamp  humidity   wind\n",
              "0  42.42            Back Bay     1.0  ... 2018-12-16 23:45:01      0.77  11.25\n",
              "1  42.43         Beacon Hill     1.0  ... 2018-12-16 23:45:01      0.76  11.32\n",
              "2  42.50   Boston University     1.0  ... 2018-12-16 23:45:01      0.76  11.07\n",
              "3  42.11              Fenway     1.0  ... 2018-12-16 23:45:01      0.77  11.09\n",
              "4  43.13  Financial District     1.0  ... 2018-12-16 23:45:01      0.75  11.49\n",
              "\n",
              "[5 rows x 8 columns]"
            ]
          },
          "metadata": {
            "tags": []
          },
          "execution_count": 45
        }
      ]
    },
    {
      "cell_type": "code",
      "metadata": {
        "id": "ZnykTy8omlNT",
        "outputId": "3c71ce67-1bc9-414f-dd3a-fd4fa2a7573e",
        "colab": {
          "base_uri": "https://localhost:8080/",
          "height": 204
        }
      },
      "source": [
        "# retrieve month, day, hour, and minute from time_stamp\n",
        "weather['month'] = weather['time_stamp'].map(lambda x : x.month)\n",
        "weather['day'] = weather['time_stamp'].map(lambda x : x.day)\n",
        "weather['hour'] = weather['time_stamp'].map(lambda x : x.hour)\n",
        "weather['minute'] = weather['time_stamp'].map(lambda x : x.minute)\n",
        "weather.head()"
      ],
      "execution_count": 46,
      "outputs": [
        {
          "output_type": "execute_result",
          "data": {
            "text/html": [
              "<div>\n",
              "<style scoped>\n",
              "    .dataframe tbody tr th:only-of-type {\n",
              "        vertical-align: middle;\n",
              "    }\n",
              "\n",
              "    .dataframe tbody tr th {\n",
              "        vertical-align: top;\n",
              "    }\n",
              "\n",
              "    .dataframe thead th {\n",
              "        text-align: right;\n",
              "    }\n",
              "</style>\n",
              "<table border=\"1\" class=\"dataframe\">\n",
              "  <thead>\n",
              "    <tr style=\"text-align: right;\">\n",
              "      <th></th>\n",
              "      <th>temp</th>\n",
              "      <th>location</th>\n",
              "      <th>clouds</th>\n",
              "      <th>pressure</th>\n",
              "      <th>rain</th>\n",
              "      <th>time_stamp</th>\n",
              "      <th>humidity</th>\n",
              "      <th>wind</th>\n",
              "      <th>month</th>\n",
              "      <th>day</th>\n",
              "      <th>hour</th>\n",
              "      <th>minute</th>\n",
              "    </tr>\n",
              "  </thead>\n",
              "  <tbody>\n",
              "    <tr>\n",
              "      <th>0</th>\n",
              "      <td>42.42</td>\n",
              "      <td>Back Bay</td>\n",
              "      <td>1.0</td>\n",
              "      <td>1012.14</td>\n",
              "      <td>0.1228</td>\n",
              "      <td>2018-12-16 23:45:01</td>\n",
              "      <td>0.77</td>\n",
              "      <td>11.25</td>\n",
              "      <td>12</td>\n",
              "      <td>16</td>\n",
              "      <td>23</td>\n",
              "      <td>45</td>\n",
              "    </tr>\n",
              "    <tr>\n",
              "      <th>1</th>\n",
              "      <td>42.43</td>\n",
              "      <td>Beacon Hill</td>\n",
              "      <td>1.0</td>\n",
              "      <td>1012.15</td>\n",
              "      <td>0.1846</td>\n",
              "      <td>2018-12-16 23:45:01</td>\n",
              "      <td>0.76</td>\n",
              "      <td>11.32</td>\n",
              "      <td>12</td>\n",
              "      <td>16</td>\n",
              "      <td>23</td>\n",
              "      <td>45</td>\n",
              "    </tr>\n",
              "    <tr>\n",
              "      <th>2</th>\n",
              "      <td>42.50</td>\n",
              "      <td>Boston University</td>\n",
              "      <td>1.0</td>\n",
              "      <td>1012.15</td>\n",
              "      <td>0.1089</td>\n",
              "      <td>2018-12-16 23:45:01</td>\n",
              "      <td>0.76</td>\n",
              "      <td>11.07</td>\n",
              "      <td>12</td>\n",
              "      <td>16</td>\n",
              "      <td>23</td>\n",
              "      <td>45</td>\n",
              "    </tr>\n",
              "    <tr>\n",
              "      <th>3</th>\n",
              "      <td>42.11</td>\n",
              "      <td>Fenway</td>\n",
              "      <td>1.0</td>\n",
              "      <td>1012.13</td>\n",
              "      <td>0.0969</td>\n",
              "      <td>2018-12-16 23:45:01</td>\n",
              "      <td>0.77</td>\n",
              "      <td>11.09</td>\n",
              "      <td>12</td>\n",
              "      <td>16</td>\n",
              "      <td>23</td>\n",
              "      <td>45</td>\n",
              "    </tr>\n",
              "    <tr>\n",
              "      <th>4</th>\n",
              "      <td>43.13</td>\n",
              "      <td>Financial District</td>\n",
              "      <td>1.0</td>\n",
              "      <td>1012.14</td>\n",
              "      <td>0.1786</td>\n",
              "      <td>2018-12-16 23:45:01</td>\n",
              "      <td>0.75</td>\n",
              "      <td>11.49</td>\n",
              "      <td>12</td>\n",
              "      <td>16</td>\n",
              "      <td>23</td>\n",
              "      <td>45</td>\n",
              "    </tr>\n",
              "  </tbody>\n",
              "</table>\n",
              "</div>"
            ],
            "text/plain": [
              "    temp            location  clouds  pressure  ...  month day  hour  minute\n",
              "0  42.42            Back Bay     1.0   1012.14  ...     12  16    23      45\n",
              "1  42.43         Beacon Hill     1.0   1012.15  ...     12  16    23      45\n",
              "2  42.50   Boston University     1.0   1012.15  ...     12  16    23      45\n",
              "3  42.11              Fenway     1.0   1012.13  ...     12  16    23      45\n",
              "4  43.13  Financial District     1.0   1012.14  ...     12  16    23      45\n",
              "\n",
              "[5 rows x 12 columns]"
            ]
          },
          "metadata": {
            "tags": []
          },
          "execution_count": 46
        }
      ]
    },
    {
      "cell_type": "code",
      "metadata": {
        "id": "DJYXee3NmlNa",
        "outputId": "ce1557a9-dced-446d-d6d8-0caf6377f1a2",
        "colab": {
          "base_uri": "https://localhost:8080/"
        }
      },
      "source": [
        "# Checking for duplicates\n",
        "\n",
        "weather.duplicated().sum()"
      ],
      "execution_count": 48,
      "outputs": [
        {
          "output_type": "execute_result",
          "data": {
            "text/plain": [
              "0"
            ]
          },
          "metadata": {
            "tags": []
          },
          "execution_count": 48
        }
      ]
    },
    {
      "cell_type": "code",
      "metadata": {
        "id": "pTN3aeDbmlNh",
        "outputId": "b0ada203-eb2b-4883-fdf3-14f26cff650b",
        "colab": {
          "base_uri": "https://localhost:8080/"
        }
      },
      "source": [
        "# check for missing values\n",
        "weather.isna().mean() * 100"
      ],
      "execution_count": 53,
      "outputs": [
        {
          "output_type": "execute_result",
          "data": {
            "text/plain": [
              "temp           0.000000\n",
              "location       0.000000\n",
              "clouds         0.000000\n",
              "pressure       0.000000\n",
              "rain          85.755258\n",
              "time_stamp     0.000000\n",
              "humidity       0.000000\n",
              "wind           0.000000\n",
              "month          0.000000\n",
              "day            0.000000\n",
              "hour           0.000000\n",
              "minute         0.000000\n",
              "dtype: float64"
            ]
          },
          "metadata": {
            "tags": []
          },
          "execution_count": 53
        }
      ]
    },
    {
      "cell_type": "markdown",
      "metadata": {
        "id": "guIdbIBnODi8"
      },
      "source": [
        "The 'Rain' column has 85% of missing values. We will however impute these missing values with the column mean"
      ]
    },
    {
      "cell_type": "code",
      "metadata": {
        "id": "awtDMYQgOZHM",
        "outputId": "9462ab05-d7a1-46d8-9f56-08da9775f153",
        "colab": {
          "base_uri": "https://localhost:8080/"
        }
      },
      "source": [
        "# Dealing with missing values using mean imputation\n",
        "\n",
        "weather['rain'].fillna(weather['rain'].mean(), inplace = True)\n",
        "\n",
        "weather.isna().sum()"
      ],
      "execution_count": 56,
      "outputs": [
        {
          "output_type": "execute_result",
          "data": {
            "text/plain": [
              "temp          0\n",
              "location      0\n",
              "clouds        0\n",
              "pressure      0\n",
              "rain          0\n",
              "time_stamp    0\n",
              "humidity      0\n",
              "wind          0\n",
              "month         0\n",
              "day           0\n",
              "hour          0\n",
              "minute        0\n",
              "dtype: int64"
            ]
          },
          "metadata": {
            "tags": []
          },
          "execution_count": 56
        }
      ]
    },
    {
      "cell_type": "code",
      "metadata": {
        "id": "tgNkrwDPmlNm",
        "outputId": "99e36866-06b9-456e-c9f3-8122e62aa3ef",
        "colab": {
          "base_uri": "https://localhost:8080/"
        }
      },
      "source": [
        "# check data types\n",
        "weather.dtypes"
      ],
      "execution_count": 57,
      "outputs": [
        {
          "output_type": "execute_result",
          "data": {
            "text/plain": [
              "temp                 float64\n",
              "location              object\n",
              "clouds               float64\n",
              "pressure             float64\n",
              "rain                 float64\n",
              "time_stamp    datetime64[ns]\n",
              "humidity             float64\n",
              "wind                 float64\n",
              "month                  int64\n",
              "day                    int64\n",
              "hour                   int64\n",
              "minute                 int64\n",
              "dtype: object"
            ]
          },
          "metadata": {
            "tags": []
          },
          "execution_count": 57
        }
      ]
    },
    {
      "cell_type": "code",
      "metadata": {
        "id": "n9xYrHDjquNR",
        "outputId": "15431d4d-04bb-476e-9b27-503a5137e47a",
        "colab": {
          "base_uri": "https://localhost:8080/"
        }
      },
      "source": [
        "%%sql\n",
        "DROP TABLE IF EXISTS weather;"
      ],
      "execution_count": 58,
      "outputs": [
        {
          "output_type": "stream",
          "text": [
            " * sqlite:///testdb.sqlite\n",
            "Done.\n"
          ],
          "name": "stdout"
        },
        {
          "output_type": "execute_result",
          "data": {
            "text/plain": [
              "[]"
            ]
          },
          "metadata": {
            "tags": []
          },
          "execution_count": 58
        }
      ]
    },
    {
      "cell_type": "code",
      "metadata": {
        "id": "dnklu2XrmlNs",
        "outputId": "5af41194-8cae-4d46-945e-92475a56439b",
        "colab": {
          "base_uri": "https://localhost:8080/",
          "height": 52
        }
      },
      "source": [
        "%sql PERSIST weather;"
      ],
      "execution_count": 59,
      "outputs": [
        {
          "output_type": "stream",
          "text": [
            " * sqlite:///testdb.sqlite\n"
          ],
          "name": "stdout"
        },
        {
          "output_type": "execute_result",
          "data": {
            "application/vnd.google.colaboratory.intrinsic+json": {
              "type": "string"
            },
            "text/plain": [
              "'Persisted weather'"
            ]
          },
          "metadata": {
            "tags": []
          },
          "execution_count": 59
        }
      ]
    },
    {
      "cell_type": "code",
      "metadata": {
        "id": "cWjkSeI1qEwI",
        "outputId": "0c94b4a6-b1c3-41f5-e756-756ace941a19",
        "colab": {
          "base_uri": "https://localhost:8080/",
          "height": 137
        }
      },
      "source": [
        "%%sql\n",
        "SELECT * FROM weather LIMIT 3;"
      ],
      "execution_count": 60,
      "outputs": [
        {
          "output_type": "stream",
          "text": [
            " * sqlite:///testdb.sqlite\n",
            "Done.\n"
          ],
          "name": "stdout"
        },
        {
          "output_type": "execute_result",
          "data": {
            "text/html": [
              "<table>\n",
              "    <tr>\n",
              "        <th>index</th>\n",
              "        <th>temp</th>\n",
              "        <th>location</th>\n",
              "        <th>clouds</th>\n",
              "        <th>pressure</th>\n",
              "        <th>rain</th>\n",
              "        <th>time_stamp</th>\n",
              "        <th>humidity</th>\n",
              "        <th>wind</th>\n",
              "        <th>month</th>\n",
              "        <th>day</th>\n",
              "        <th>hour</th>\n",
              "        <th>minute</th>\n",
              "    </tr>\n",
              "    <tr>\n",
              "        <td>0</td>\n",
              "        <td>42.42</td>\n",
              "        <td>Back Bay</td>\n",
              "        <td>1.0</td>\n",
              "        <td>1012.14</td>\n",
              "        <td>0.1228</td>\n",
              "        <td>2018-12-16 23:45:01.000000</td>\n",
              "        <td>0.77</td>\n",
              "        <td>11.25</td>\n",
              "        <td>12</td>\n",
              "        <td>16</td>\n",
              "        <td>23</td>\n",
              "        <td>45</td>\n",
              "    </tr>\n",
              "    <tr>\n",
              "        <td>1</td>\n",
              "        <td>42.43</td>\n",
              "        <td>Beacon Hill</td>\n",
              "        <td>1.0</td>\n",
              "        <td>1012.15</td>\n",
              "        <td>0.1846</td>\n",
              "        <td>2018-12-16 23:45:01.000000</td>\n",
              "        <td>0.76</td>\n",
              "        <td>11.32</td>\n",
              "        <td>12</td>\n",
              "        <td>16</td>\n",
              "        <td>23</td>\n",
              "        <td>45</td>\n",
              "    </tr>\n",
              "    <tr>\n",
              "        <td>2</td>\n",
              "        <td>42.5</td>\n",
              "        <td>Boston University</td>\n",
              "        <td>1.0</td>\n",
              "        <td>1012.15</td>\n",
              "        <td>0.1089</td>\n",
              "        <td>2018-12-16 23:45:01.000000</td>\n",
              "        <td>0.76</td>\n",
              "        <td>11.07</td>\n",
              "        <td>12</td>\n",
              "        <td>16</td>\n",
              "        <td>23</td>\n",
              "        <td>45</td>\n",
              "    </tr>\n",
              "</table>"
            ],
            "text/plain": [
              "[(0, 42.42, 'Back Bay', 1.0, 1012.14, 0.1228, '2018-12-16 23:45:01.000000', 0.77, 11.25, 12, 16, 23, 45),\n",
              " (1, 42.43, 'Beacon Hill', 1.0, 1012.15, 0.1846, '2018-12-16 23:45:01.000000', 0.76, 11.32, 12, 16, 23, 45),\n",
              " (2, 42.5, 'Boston University', 1.0, 1012.15, 0.1089, '2018-12-16 23:45:01.000000', 0.76, 11.07, 12, 16, 23, 45)]"
            ]
          },
          "metadata": {
            "tags": []
          },
          "execution_count": 60
        }
      ]
    },
    {
      "cell_type": "markdown",
      "metadata": {
        "id": "2NYe5OhjmlN7"
      },
      "source": [
        "## <font color='#2F4F4F'>3. Data Analysis</font>"
      ]
    },
    {
      "cell_type": "markdown",
      "metadata": {
        "id": "uQeK7EwYmlN8"
      },
      "source": [
        "#### 3.1 Basic Information about Price"
      ]
    },
    {
      "cell_type": "code",
      "metadata": {
        "id": "P4kUs_-CmlN9",
        "outputId": "69ba8664-f24f-422d-d6cd-595ba54fec15",
        "colab": {
          "base_uri": "https://localhost:8080/",
          "height": 95
        }
      },
      "source": [
        "%%sql\n",
        "-- # calculate average of price\n",
        "\n",
        "SELECT AVG(price) FROM Cab;"
      ],
      "execution_count": 61,
      "outputs": [
        {
          "output_type": "stream",
          "text": [
            " * sqlite:///testdb.sqlite\n",
            "Done.\n"
          ],
          "name": "stdout"
        },
        {
          "output_type": "execute_result",
          "data": {
            "text/html": [
              "<table>\n",
              "    <tr>\n",
              "        <th>AVG(price)</th>\n",
              "    </tr>\n",
              "    <tr>\n",
              "        <td>16.545125490614065</td>\n",
              "    </tr>\n",
              "</table>"
            ],
            "text/plain": [
              "[(16.545125490614065,)]"
            ]
          },
          "metadata": {
            "tags": []
          },
          "execution_count": 61
        }
      ]
    },
    {
      "cell_type": "code",
      "metadata": {
        "id": "LnXDtQiLmlOC",
        "outputId": "7c0d5330-f5a2-4fb9-9fc3-f6481ed4690c",
        "colab": {
          "base_uri": "https://localhost:8080/",
          "height": 95
        }
      },
      "source": [
        "%%sql\n",
        "-- # calculate the minimum price\n",
        "\n",
        "SELECT MIN(price) FROM Cab;"
      ],
      "execution_count": 62,
      "outputs": [
        {
          "output_type": "stream",
          "text": [
            " * sqlite:///testdb.sqlite\n",
            "Done.\n"
          ],
          "name": "stdout"
        },
        {
          "output_type": "execute_result",
          "data": {
            "text/html": [
              "<table>\n",
              "    <tr>\n",
              "        <th>MIN(price)</th>\n",
              "    </tr>\n",
              "    <tr>\n",
              "        <td>2.5</td>\n",
              "    </tr>\n",
              "</table>"
            ],
            "text/plain": [
              "[(2.5,)]"
            ]
          },
          "metadata": {
            "tags": []
          },
          "execution_count": 62
        }
      ]
    },
    {
      "cell_type": "code",
      "metadata": {
        "id": "DegH0VzwmlOH",
        "outputId": "df49f928-2838-42f3-d356-8f7c1862230e",
        "colab": {
          "base_uri": "https://localhost:8080/",
          "height": 95
        }
      },
      "source": [
        "%%sql\n",
        "-- # calculate the maximum price\n",
        "\n",
        "SELECT MAX(price) FROM Cab;"
      ],
      "execution_count": 63,
      "outputs": [
        {
          "output_type": "stream",
          "text": [
            " * sqlite:///testdb.sqlite\n",
            "Done.\n"
          ],
          "name": "stdout"
        },
        {
          "output_type": "execute_result",
          "data": {
            "text/html": [
              "<table>\n",
              "    <tr>\n",
              "        <th>MAX(price)</th>\n",
              "    </tr>\n",
              "    <tr>\n",
              "        <td>97.5</td>\n",
              "    </tr>\n",
              "</table>"
            ],
            "text/plain": [
              "[(97.5,)]"
            ]
          },
          "metadata": {
            "tags": []
          },
          "execution_count": 63
        }
      ]
    },
    {
      "cell_type": "markdown",
      "metadata": {
        "id": "DSJiPA-hmlOM"
      },
      "source": [
        "#### 3.2 Price by Cab Type"
      ]
    },
    {
      "cell_type": "code",
      "metadata": {
        "id": "Sv1YI5udmlON",
        "outputId": "49da63f7-8060-4504-8441-6f39b6d9ab5a",
        "colab": {
          "base_uri": "https://localhost:8080/",
          "height": 116
        }
      },
      "source": [
        "%%sql\n",
        "-- # select average price by cab type\n",
        "\n",
        "SELECT cab_type, AVG(price) FROM Cab\n",
        "GROUP BY cab_type;"
      ],
      "execution_count": 64,
      "outputs": [
        {
          "output_type": "stream",
          "text": [
            " * sqlite:///testdb.sqlite\n",
            "Done.\n"
          ],
          "name": "stdout"
        },
        {
          "output_type": "execute_result",
          "data": {
            "text/html": [
              "<table>\n",
              "    <tr>\n",
              "        <th>cab_type</th>\n",
              "        <th>AVG(price)</th>\n",
              "    </tr>\n",
              "    <tr>\n",
              "        <td>Lyft</td>\n",
              "        <td>17.351396125019512</td>\n",
              "    </tr>\n",
              "    <tr>\n",
              "        <td>Uber</td>\n",
              "        <td>15.795343166912708</td>\n",
              "    </tr>\n",
              "</table>"
            ],
            "text/plain": [
              "[('Lyft', 17.351396125019512), ('Uber', 15.795343166912708)]"
            ]
          },
          "metadata": {
            "tags": []
          },
          "execution_count": 64
        }
      ]
    },
    {
      "cell_type": "code",
      "metadata": {
        "id": "B9oSCGeUmlOQ",
        "outputId": "ab6a3e9e-6614-4559-cb2b-6fab877343ff",
        "colab": {
          "base_uri": "https://localhost:8080/",
          "height": 116
        }
      },
      "source": [
        "%%sql\n",
        "-- # select minimum price by cab type\n",
        "\n",
        "SELECT cab_type, MIN(price) FROM Cab\n",
        "GROUP BY cab_type;"
      ],
      "execution_count": 65,
      "outputs": [
        {
          "output_type": "stream",
          "text": [
            " * sqlite:///testdb.sqlite\n",
            "Done.\n"
          ],
          "name": "stdout"
        },
        {
          "output_type": "execute_result",
          "data": {
            "text/html": [
              "<table>\n",
              "    <tr>\n",
              "        <th>cab_type</th>\n",
              "        <th>MIN(price)</th>\n",
              "    </tr>\n",
              "    <tr>\n",
              "        <td>Lyft</td>\n",
              "        <td>2.5</td>\n",
              "    </tr>\n",
              "    <tr>\n",
              "        <td>Uber</td>\n",
              "        <td>4.5</td>\n",
              "    </tr>\n",
              "</table>"
            ],
            "text/plain": [
              "[('Lyft', 2.5), ('Uber', 4.5)]"
            ]
          },
          "metadata": {
            "tags": []
          },
          "execution_count": 65
        }
      ]
    },
    {
      "cell_type": "code",
      "metadata": {
        "id": "ApFZhonPmlOX",
        "outputId": "c6473991-c5ac-4716-ba7f-6327c613bc56",
        "colab": {
          "base_uri": "https://localhost:8080/",
          "height": 116
        }
      },
      "source": [
        "%%sql\n",
        "-- # select maximum price by cab type\n",
        "\n",
        "SELECT cab_type, MAX(price) FROM Cab\n",
        "GROUP BY cab_type;"
      ],
      "execution_count": 66,
      "outputs": [
        {
          "output_type": "stream",
          "text": [
            " * sqlite:///testdb.sqlite\n",
            "Done.\n"
          ],
          "name": "stdout"
        },
        {
          "output_type": "execute_result",
          "data": {
            "text/html": [
              "<table>\n",
              "    <tr>\n",
              "        <th>cab_type</th>\n",
              "        <th>MAX(price)</th>\n",
              "    </tr>\n",
              "    <tr>\n",
              "        <td>Lyft</td>\n",
              "        <td>97.5</td>\n",
              "    </tr>\n",
              "    <tr>\n",
              "        <td>Uber</td>\n",
              "        <td>89.5</td>\n",
              "    </tr>\n",
              "</table>"
            ],
            "text/plain": [
              "[('Lyft', 97.5), ('Uber', 89.5)]"
            ]
          },
          "metadata": {
            "tags": []
          },
          "execution_count": 66
        }
      ]
    },
    {
      "cell_type": "markdown",
      "metadata": {
        "id": "LvYPCbSwmlOf"
      },
      "source": [
        "#### 3.3 Price by Time Period "
      ]
    },
    {
      "cell_type": "markdown",
      "metadata": {
        "id": "yGABEQj2mlOg"
      },
      "source": [
        "###### 3.3.1 From 12 AM to 6 AM"
      ]
    },
    {
      "cell_type": "code",
      "metadata": {
        "id": "080yro0LmlOg",
        "outputId": "2e78838d-fb3a-48bf-c0a0-fd2c41aba00a",
        "colab": {
          "base_uri": "https://localhost:8080/",
          "height": 116
        }
      },
      "source": [
        "%%sql\n",
        "-- # select average price from 12 AM to 6 AM\n",
        "\n",
        "SELECT cab_type, AVG(price) FROM Cab\n",
        "WHERE hour >= 0 AND hour <= 6\n",
        "GROUP BY cab_type;"
      ],
      "execution_count": 68,
      "outputs": [
        {
          "output_type": "stream",
          "text": [
            " * sqlite:///testdb.sqlite\n",
            "Done.\n"
          ],
          "name": "stdout"
        },
        {
          "output_type": "execute_result",
          "data": {
            "text/html": [
              "<table>\n",
              "    <tr>\n",
              "        <th>cab_type</th>\n",
              "        <th>AVG(price)</th>\n",
              "    </tr>\n",
              "    <tr>\n",
              "        <td>Lyft</td>\n",
              "        <td>17.34879860873532</td>\n",
              "    </tr>\n",
              "    <tr>\n",
              "        <td>Uber</td>\n",
              "        <td>15.804734071787934</td>\n",
              "    </tr>\n",
              "</table>"
            ],
            "text/plain": [
              "[('Lyft', 17.34879860873532), ('Uber', 15.804734071787934)]"
            ]
          },
          "metadata": {
            "tags": []
          },
          "execution_count": 68
        }
      ]
    },
    {
      "cell_type": "code",
      "metadata": {
        "id": "3pMiMGVKmlOn",
        "outputId": "70570f94-6f4a-4ed0-e4b3-880121eb6694",
        "colab": {
          "base_uri": "https://localhost:8080/",
          "height": 116
        }
      },
      "source": [
        "%%sql\n",
        "-- # select minimum price from 12 AM to 6 AM\n",
        "\n",
        "SELECT cab_type, MIN(price) FROM Cab\n",
        "WHERE hour >= 0 AND hour <= 6\n",
        "GROUP BY cab_type;"
      ],
      "execution_count": 67,
      "outputs": [
        {
          "output_type": "stream",
          "text": [
            " * sqlite:///testdb.sqlite\n",
            "Done.\n"
          ],
          "name": "stdout"
        },
        {
          "output_type": "execute_result",
          "data": {
            "text/html": [
              "<table>\n",
              "    <tr>\n",
              "        <th>cab_type</th>\n",
              "        <th>MIN(price)</th>\n",
              "    </tr>\n",
              "    <tr>\n",
              "        <td>Lyft</td>\n",
              "        <td>2.5</td>\n",
              "    </tr>\n",
              "    <tr>\n",
              "        <td>Uber</td>\n",
              "        <td>4.5</td>\n",
              "    </tr>\n",
              "</table>"
            ],
            "text/plain": [
              "[('Lyft', 2.5), ('Uber', 4.5)]"
            ]
          },
          "metadata": {
            "tags": []
          },
          "execution_count": 67
        }
      ]
    },
    {
      "cell_type": "code",
      "metadata": {
        "id": "CCc3AEcfmlOu",
        "outputId": "a7ab2296-71f9-49aa-b4bb-ac0592dc0e95",
        "colab": {
          "base_uri": "https://localhost:8080/",
          "height": 116
        }
      },
      "source": [
        "%%sql\n",
        "-- # select maximum price from 12 AM to 6 AM\n",
        "\n",
        "SELECT cab_type, MAX(price) FROM Cab\n",
        "WHERE hour >= 0 AND hour <= 6\n",
        "GROUP BY cab_type;"
      ],
      "execution_count": 69,
      "outputs": [
        {
          "output_type": "stream",
          "text": [
            " * sqlite:///testdb.sqlite\n",
            "Done.\n"
          ],
          "name": "stdout"
        },
        {
          "output_type": "execute_result",
          "data": {
            "text/html": [
              "<table>\n",
              "    <tr>\n",
              "        <th>cab_type</th>\n",
              "        <th>MAX(price)</th>\n",
              "    </tr>\n",
              "    <tr>\n",
              "        <td>Lyft</td>\n",
              "        <td>97.5</td>\n",
              "    </tr>\n",
              "    <tr>\n",
              "        <td>Uber</td>\n",
              "        <td>81.5</td>\n",
              "    </tr>\n",
              "</table>"
            ],
            "text/plain": [
              "[('Lyft', 97.5), ('Uber', 81.5)]"
            ]
          },
          "metadata": {
            "tags": []
          },
          "execution_count": 69
        }
      ]
    },
    {
      "cell_type": "markdown",
      "metadata": {
        "id": "O2aaqc5tmlOx"
      },
      "source": [
        "###### 3.3.2 From 7 AM to 12 PM"
      ]
    },
    {
      "cell_type": "code",
      "metadata": {
        "id": "KJfjApe5mlOz",
        "outputId": "9d2b3ec4-cf8e-4035-ce1c-0df1812638aa",
        "colab": {
          "base_uri": "https://localhost:8080/",
          "height": 116
        }
      },
      "source": [
        "%%sql\n",
        "-- # select average price from 7 AM to 12 PM\n",
        "\n",
        "SELECT cab_type, AVG(price) FROM Cab\n",
        "WHERE hour >= 7 AND hour <= 12\n",
        "GROUP BY cab_type;"
      ],
      "execution_count": 70,
      "outputs": [
        {
          "output_type": "stream",
          "text": [
            " * sqlite:///testdb.sqlite\n",
            "Done.\n"
          ],
          "name": "stdout"
        },
        {
          "output_type": "execute_result",
          "data": {
            "text/html": [
              "<table>\n",
              "    <tr>\n",
              "        <th>cab_type</th>\n",
              "        <th>AVG(price)</th>\n",
              "    </tr>\n",
              "    <tr>\n",
              "        <td>Lyft</td>\n",
              "        <td>17.352357270472787</td>\n",
              "    </tr>\n",
              "    <tr>\n",
              "        <td>Uber</td>\n",
              "        <td>15.754890557913361</td>\n",
              "    </tr>\n",
              "</table>"
            ],
            "text/plain": [
              "[('Lyft', 17.352357270472787), ('Uber', 15.754890557913361)]"
            ]
          },
          "metadata": {
            "tags": []
          },
          "execution_count": 70
        }
      ]
    },
    {
      "cell_type": "code",
      "metadata": {
        "id": "_wp9O6B1mlO2",
        "outputId": "cc866375-df01-4763-dbb9-f80e32390650",
        "colab": {
          "base_uri": "https://localhost:8080/",
          "height": 116
        }
      },
      "source": [
        "%%sql\n",
        "-- # select minimum price from 7 AM to 12 PM\n",
        "\n",
        "SELECT cab_type, MIN(price) FROM Cab\n",
        "WHERE hour >= 7 AND hour <= 12\n",
        "GROUP BY cab_type;"
      ],
      "execution_count": 72,
      "outputs": [
        {
          "output_type": "stream",
          "text": [
            " * sqlite:///testdb.sqlite\n",
            "Done.\n"
          ],
          "name": "stdout"
        },
        {
          "output_type": "execute_result",
          "data": {
            "text/html": [
              "<table>\n",
              "    <tr>\n",
              "        <th>cab_type</th>\n",
              "        <th>MIN(price)</th>\n",
              "    </tr>\n",
              "    <tr>\n",
              "        <td>Lyft</td>\n",
              "        <td>2.5</td>\n",
              "    </tr>\n",
              "    <tr>\n",
              "        <td>Uber</td>\n",
              "        <td>4.5</td>\n",
              "    </tr>\n",
              "</table>"
            ],
            "text/plain": [
              "[('Lyft', 2.5), ('Uber', 4.5)]"
            ]
          },
          "metadata": {
            "tags": []
          },
          "execution_count": 72
        }
      ]
    },
    {
      "cell_type": "code",
      "metadata": {
        "id": "kJjrun0cmlO5",
        "outputId": "6381f5d2-dd3e-4757-9e26-d49736d423b6",
        "colab": {
          "base_uri": "https://localhost:8080/",
          "height": 116
        }
      },
      "source": [
        "%%sql\n",
        "-- # select maximum price from 7 AM to 12 PM\n",
        "\n",
        "SELECT cab_type, MAX(price) FROM Cab\n",
        "WHERE hour >= 7 AND hour <= 12\n",
        "GROUP BY cab_type;"
      ],
      "execution_count": 71,
      "outputs": [
        {
          "output_type": "stream",
          "text": [
            " * sqlite:///testdb.sqlite\n",
            "Done.\n"
          ],
          "name": "stdout"
        },
        {
          "output_type": "execute_result",
          "data": {
            "text/html": [
              "<table>\n",
              "    <tr>\n",
              "        <th>cab_type</th>\n",
              "        <th>MAX(price)</th>\n",
              "    </tr>\n",
              "    <tr>\n",
              "        <td>Lyft</td>\n",
              "        <td>89.0</td>\n",
              "    </tr>\n",
              "    <tr>\n",
              "        <td>Uber</td>\n",
              "        <td>80.5</td>\n",
              "    </tr>\n",
              "</table>"
            ],
            "text/plain": [
              "[('Lyft', 89.0), ('Uber', 80.5)]"
            ]
          },
          "metadata": {
            "tags": []
          },
          "execution_count": 71
        }
      ]
    },
    {
      "cell_type": "markdown",
      "metadata": {
        "id": "bnqcNp4wmlO9"
      },
      "source": [
        "###### 3.3.3 From 1 PM to 6 PM"
      ]
    },
    {
      "cell_type": "code",
      "metadata": {
        "id": "wtehJTTdmlO9",
        "outputId": "abcc6bf2-27bd-4576-bdcd-c0dbd434cf42",
        "colab": {
          "base_uri": "https://localhost:8080/",
          "height": 116
        }
      },
      "source": [
        "%%sql\n",
        "-- # select average price from 1 PM to 6 PM\n",
        "\n",
        "SELECT cab_type, AVG(price) FROM Cab\n",
        "WHERE hour >= 13 AND hour <= 18\n",
        "GROUP BY cab_type;"
      ],
      "execution_count": 73,
      "outputs": [
        {
          "output_type": "stream",
          "text": [
            " * sqlite:///testdb.sqlite\n",
            "Done.\n"
          ],
          "name": "stdout"
        },
        {
          "output_type": "execute_result",
          "data": {
            "text/html": [
              "<table>\n",
              "    <tr>\n",
              "        <th>cab_type</th>\n",
              "        <th>AVG(price)</th>\n",
              "    </tr>\n",
              "    <tr>\n",
              "        <td>Lyft</td>\n",
              "        <td>17.33826120852875</td>\n",
              "    </tr>\n",
              "    <tr>\n",
              "        <td>Uber</td>\n",
              "        <td>15.806273486789937</td>\n",
              "    </tr>\n",
              "</table>"
            ],
            "text/plain": [
              "[('Lyft', 17.33826120852875), ('Uber', 15.806273486789937)]"
            ]
          },
          "metadata": {
            "tags": []
          },
          "execution_count": 73
        }
      ]
    },
    {
      "cell_type": "code",
      "metadata": {
        "id": "vJqKMLnTmlPB",
        "outputId": "b41e68f4-a6f7-4ae4-e5df-79b7641fcdce",
        "colab": {
          "base_uri": "https://localhost:8080/",
          "height": 116
        }
      },
      "source": [
        "%%sql\n",
        "-- # select minimum price from 1 PM to 6 PM\n",
        "\n",
        "SELECT cab_type, MIN(price) FROM Cab\n",
        "WHERE hour >= 13 AND hour <= 18\n",
        "GROUP BY cab_type;"
      ],
      "execution_count": 74,
      "outputs": [
        {
          "output_type": "stream",
          "text": [
            " * sqlite:///testdb.sqlite\n",
            "Done.\n"
          ],
          "name": "stdout"
        },
        {
          "output_type": "execute_result",
          "data": {
            "text/html": [
              "<table>\n",
              "    <tr>\n",
              "        <th>cab_type</th>\n",
              "        <th>MIN(price)</th>\n",
              "    </tr>\n",
              "    <tr>\n",
              "        <td>Lyft</td>\n",
              "        <td>2.5</td>\n",
              "    </tr>\n",
              "    <tr>\n",
              "        <td>Uber</td>\n",
              "        <td>4.5</td>\n",
              "    </tr>\n",
              "</table>"
            ],
            "text/plain": [
              "[('Lyft', 2.5), ('Uber', 4.5)]"
            ]
          },
          "metadata": {
            "tags": []
          },
          "execution_count": 74
        }
      ]
    },
    {
      "cell_type": "code",
      "metadata": {
        "id": "PjjN5-hlmlPG",
        "outputId": "b73647e1-85aa-4ea0-d64f-5f4dce9e17b2",
        "colab": {
          "base_uri": "https://localhost:8080/",
          "height": 116
        }
      },
      "source": [
        "%%sql\n",
        "-- # select maximum price from 1 PM to 6 PM\n",
        "\n",
        "SELECT cab_type, MAX(price) FROM Cab\n",
        "WHERE hour >= 13 AND hour <= 18\n",
        "GROUP BY cab_type;"
      ],
      "execution_count": 75,
      "outputs": [
        {
          "output_type": "stream",
          "text": [
            " * sqlite:///testdb.sqlite\n",
            "Done.\n"
          ],
          "name": "stdout"
        },
        {
          "output_type": "execute_result",
          "data": {
            "text/html": [
              "<table>\n",
              "    <tr>\n",
              "        <th>cab_type</th>\n",
              "        <th>MAX(price)</th>\n",
              "    </tr>\n",
              "    <tr>\n",
              "        <td>Lyft</td>\n",
              "        <td>92.0</td>\n",
              "    </tr>\n",
              "    <tr>\n",
              "        <td>Uber</td>\n",
              "        <td>89.5</td>\n",
              "    </tr>\n",
              "</table>"
            ],
            "text/plain": [
              "[('Lyft', 92.0), ('Uber', 89.5)]"
            ]
          },
          "metadata": {
            "tags": []
          },
          "execution_count": 75
        }
      ]
    },
    {
      "cell_type": "markdown",
      "metadata": {
        "id": "7apMCwVrmlPK"
      },
      "source": [
        "###### 3.3.4 From 7 PM to 11 PM"
      ]
    },
    {
      "cell_type": "code",
      "metadata": {
        "id": "Ifti9i7gmlPK",
        "outputId": "d56f82ab-88ed-4c56-b30a-1dfde66ded61",
        "colab": {
          "base_uri": "https://localhost:8080/",
          "height": 116
        }
      },
      "source": [
        "%%sql\n",
        "-- # select average price from 7 PM to 11 PM\n",
        "\n",
        "SELECT cab_type, AVG(price) FROM Cab\n",
        "WHERE hour >= 19 AND hour <= 23\n",
        "GROUP BY cab_type;"
      ],
      "execution_count": 76,
      "outputs": [
        {
          "output_type": "stream",
          "text": [
            " * sqlite:///testdb.sqlite\n",
            "Done.\n"
          ],
          "name": "stdout"
        },
        {
          "output_type": "execute_result",
          "data": {
            "text/html": [
              "<table>\n",
              "    <tr>\n",
              "        <th>cab_type</th>\n",
              "        <th>AVG(price)</th>\n",
              "    </tr>\n",
              "    <tr>\n",
              "        <td>Lyft</td>\n",
              "        <td>17.370441109737584</td>\n",
              "    </tr>\n",
              "    <tr>\n",
              "        <td>Uber</td>\n",
              "        <td>15.816331473869642</td>\n",
              "    </tr>\n",
              "</table>"
            ],
            "text/plain": [
              "[('Lyft', 17.370441109737584), ('Uber', 15.816331473869642)]"
            ]
          },
          "metadata": {
            "tags": []
          },
          "execution_count": 76
        }
      ]
    },
    {
      "cell_type": "code",
      "metadata": {
        "id": "RCf5KEXJmlPN",
        "outputId": "cf390d9b-c0fe-446f-c13b-42730960fbce",
        "colab": {
          "base_uri": "https://localhost:8080/",
          "height": 116
        }
      },
      "source": [
        "%%sql\n",
        "-- # select minimum price from 7 PM to 11 PM\n",
        "\n",
        "SELECT cab_type, MIN(price) FROM Cab\n",
        "WHERE hour >= 19 AND hour <= 23\n",
        "GROUP BY cab_type;"
      ],
      "execution_count": 77,
      "outputs": [
        {
          "output_type": "stream",
          "text": [
            " * sqlite:///testdb.sqlite\n",
            "Done.\n"
          ],
          "name": "stdout"
        },
        {
          "output_type": "execute_result",
          "data": {
            "text/html": [
              "<table>\n",
              "    <tr>\n",
              "        <th>cab_type</th>\n",
              "        <th>MIN(price)</th>\n",
              "    </tr>\n",
              "    <tr>\n",
              "        <td>Lyft</td>\n",
              "        <td>2.5</td>\n",
              "    </tr>\n",
              "    <tr>\n",
              "        <td>Uber</td>\n",
              "        <td>4.5</td>\n",
              "    </tr>\n",
              "</table>"
            ],
            "text/plain": [
              "[('Lyft', 2.5), ('Uber', 4.5)]"
            ]
          },
          "metadata": {
            "tags": []
          },
          "execution_count": 77
        }
      ]
    },
    {
      "cell_type": "code",
      "metadata": {
        "id": "G0bmDmCHmlPS",
        "outputId": "51dfa288-cd3f-4385-d8cd-c2d5e6e67936",
        "colab": {
          "base_uri": "https://localhost:8080/",
          "height": 116
        }
      },
      "source": [
        "%%sql\n",
        "-- # select maximum price from 7 PM to 11 PM\n",
        "\n",
        "SELECT cab_type, MAX(price) FROM Cab\n",
        "WHERE hour >= 19 AND hour <= 23\n",
        "GROUP BY cab_type;"
      ],
      "execution_count": 78,
      "outputs": [
        {
          "output_type": "stream",
          "text": [
            " * sqlite:///testdb.sqlite\n",
            "Done.\n"
          ],
          "name": "stdout"
        },
        {
          "output_type": "execute_result",
          "data": {
            "text/html": [
              "<table>\n",
              "    <tr>\n",
              "        <th>cab_type</th>\n",
              "        <th>MAX(price)</th>\n",
              "    </tr>\n",
              "    <tr>\n",
              "        <td>Lyft</td>\n",
              "        <td>92.0</td>\n",
              "    </tr>\n",
              "    <tr>\n",
              "        <td>Uber</td>\n",
              "        <td>76.0</td>\n",
              "    </tr>\n",
              "</table>"
            ],
            "text/plain": [
              "[('Lyft', 92.0), ('Uber', 76.0)]"
            ]
          },
          "metadata": {
            "tags": []
          },
          "execution_count": 78
        }
      ]
    },
    {
      "cell_type": "markdown",
      "metadata": {
        "id": "4gF1624ImlPb"
      },
      "source": [
        "#### 3.4 Price by Distance"
      ]
    },
    {
      "cell_type": "code",
      "metadata": {
        "id": "QYdcJ9rjmlPe",
        "outputId": "e7545d35-d9aa-4928-b28f-46ca9a2025e7",
        "colab": {
          "base_uri": "https://localhost:8080/",
          "height": 95
        }
      },
      "source": [
        "%%sql\n",
        "-- # preview minimum distance\n",
        "\n",
        "SELECT MIN(distance) FROM Cab;"
      ],
      "execution_count": 79,
      "outputs": [
        {
          "output_type": "stream",
          "text": [
            " * sqlite:///testdb.sqlite\n",
            "Done.\n"
          ],
          "name": "stdout"
        },
        {
          "output_type": "execute_result",
          "data": {
            "text/html": [
              "<table>\n",
              "    <tr>\n",
              "        <th>MIN(distance)</th>\n",
              "    </tr>\n",
              "    <tr>\n",
              "        <td>0.02</td>\n",
              "    </tr>\n",
              "</table>"
            ],
            "text/plain": [
              "[(0.02,)]"
            ]
          },
          "metadata": {
            "tags": []
          },
          "execution_count": 79
        }
      ]
    },
    {
      "cell_type": "code",
      "metadata": {
        "id": "cNgw9CkFmlPn",
        "outputId": "b63d7945-5c44-4611-a922-e77cd14e94be",
        "colab": {
          "base_uri": "https://localhost:8080/",
          "height": 95
        }
      },
      "source": [
        "%%sql\n",
        "-- # preview maximum distance\n",
        "\n",
        "SELECT MAX(distance) FROM Cab;"
      ],
      "execution_count": 80,
      "outputs": [
        {
          "output_type": "stream",
          "text": [
            " * sqlite:///testdb.sqlite\n",
            "Done.\n"
          ],
          "name": "stdout"
        },
        {
          "output_type": "execute_result",
          "data": {
            "text/html": [
              "<table>\n",
              "    <tr>\n",
              "        <th>MAX(distance)</th>\n",
              "    </tr>\n",
              "    <tr>\n",
              "        <td>7.86</td>\n",
              "    </tr>\n",
              "</table>"
            ],
            "text/plain": [
              "[(7.86,)]"
            ]
          },
          "metadata": {
            "tags": []
          },
          "execution_count": 80
        }
      ]
    },
    {
      "cell_type": "markdown",
      "metadata": {
        "id": "japy6BRQmlPu"
      },
      "source": [
        "###### 3.4.1 Distance 0.00 to 1.96"
      ]
    },
    {
      "cell_type": "code",
      "metadata": {
        "id": "U5StWXJFmlPw",
        "outputId": "8cb13bd0-39db-48d3-f958-3bbc09886a19",
        "colab": {
          "base_uri": "https://localhost:8080/",
          "height": 116
        }
      },
      "source": [
        "%%sql\n",
        "-- # select average price from distance 0.00 to 1.96\n",
        "\n",
        "SELECT cab_type, AVG(price) FROM Cab\n",
        "WHERE distance >= 0.00 AND distance <= 1.96\n",
        "GROUP BY cab_type;"
      ],
      "execution_count": 81,
      "outputs": [
        {
          "output_type": "stream",
          "text": [
            " * sqlite:///testdb.sqlite\n",
            "Done.\n"
          ],
          "name": "stdout"
        },
        {
          "output_type": "execute_result",
          "data": {
            "text/html": [
              "<table>\n",
              "    <tr>\n",
              "        <th>cab_type</th>\n",
              "        <th>AVG(price)</th>\n",
              "    </tr>\n",
              "    <tr>\n",
              "        <td>Lyft</td>\n",
              "        <td>14.077923988323509</td>\n",
              "    </tr>\n",
              "    <tr>\n",
              "        <td>Uber</td>\n",
              "        <td>13.372183977950597</td>\n",
              "    </tr>\n",
              "</table>"
            ],
            "text/plain": [
              "[('Lyft', 14.077923988323509), ('Uber', 13.372183977950597)]"
            ]
          },
          "metadata": {
            "tags": []
          },
          "execution_count": 81
        }
      ]
    },
    {
      "cell_type": "code",
      "metadata": {
        "id": "Orwd_DQpmlP3",
        "outputId": "387a474a-72b7-4884-8c14-0f669eba8ddc",
        "colab": {
          "base_uri": "https://localhost:8080/",
          "height": 116
        }
      },
      "source": [
        "%%sql\n",
        "-- # select minimum price from distance 0.00 to 1.96\n",
        "\n",
        "SELECT cab_type, MIN(price) FROM Cab\n",
        "WHERE distance >= 0.00 AND distance <= 1.96\n",
        "GROUP BY cab_type;"
      ],
      "execution_count": 82,
      "outputs": [
        {
          "output_type": "stream",
          "text": [
            " * sqlite:///testdb.sqlite\n",
            "Done.\n"
          ],
          "name": "stdout"
        },
        {
          "output_type": "execute_result",
          "data": {
            "text/html": [
              "<table>\n",
              "    <tr>\n",
              "        <th>cab_type</th>\n",
              "        <th>MIN(price)</th>\n",
              "    </tr>\n",
              "    <tr>\n",
              "        <td>Lyft</td>\n",
              "        <td>2.5</td>\n",
              "    </tr>\n",
              "    <tr>\n",
              "        <td>Uber</td>\n",
              "        <td>4.5</td>\n",
              "    </tr>\n",
              "</table>"
            ],
            "text/plain": [
              "[('Lyft', 2.5), ('Uber', 4.5)]"
            ]
          },
          "metadata": {
            "tags": []
          },
          "execution_count": 82
        }
      ]
    },
    {
      "cell_type": "code",
      "metadata": {
        "id": "HMOHYUtdmlP-",
        "outputId": "6e354e0a-1201-4209-ca16-3664c98c3b7e",
        "colab": {
          "base_uri": "https://localhost:8080/",
          "height": 116
        }
      },
      "source": [
        "%%sql\n",
        "-- # select maximum price from distance 0.00 to 1.96\n",
        "\n",
        "SELECT cab_type, MAX(price) FROM Cab\n",
        "WHERE distance >= 0.00 AND distance <= 1.96\n",
        "GROUP BY cab_type;"
      ],
      "execution_count": 83,
      "outputs": [
        {
          "output_type": "stream",
          "text": [
            " * sqlite:///testdb.sqlite\n",
            "Done.\n"
          ],
          "name": "stdout"
        },
        {
          "output_type": "execute_result",
          "data": {
            "text/html": [
              "<table>\n",
              "    <tr>\n",
              "        <th>cab_type</th>\n",
              "        <th>MAX(price)</th>\n",
              "    </tr>\n",
              "    <tr>\n",
              "        <td>Lyft</td>\n",
              "        <td>65.0</td>\n",
              "    </tr>\n",
              "    <tr>\n",
              "        <td>Uber</td>\n",
              "        <td>61.5</td>\n",
              "    </tr>\n",
              "</table>"
            ],
            "text/plain": [
              "[('Lyft', 65.0), ('Uber', 61.5)]"
            ]
          },
          "metadata": {
            "tags": []
          },
          "execution_count": 83
        }
      ]
    },
    {
      "cell_type": "markdown",
      "metadata": {
        "id": "mfHt6olKmlQC"
      },
      "source": [
        "###### 3.4.2 Distance 1.97 to 3.93"
      ]
    },
    {
      "cell_type": "code",
      "metadata": {
        "id": "fbGw_jptmlQC",
        "outputId": "bb0c2ed4-8094-446d-d829-7f26de4e8c1f",
        "colab": {
          "base_uri": "https://localhost:8080/",
          "height": 116
        }
      },
      "source": [
        "%%sql\n",
        "-- # select average price from distance 1.97 to 3.93\n",
        "\n",
        "SELECT cab_type, AVG(price) FROM Cab\n",
        "WHERE distance >= 1.97 AND distance <= 3.93\n",
        "GROUP BY cab_type;"
      ],
      "execution_count": 84,
      "outputs": [
        {
          "output_type": "stream",
          "text": [
            " * sqlite:///testdb.sqlite\n",
            "Done.\n"
          ],
          "name": "stdout"
        },
        {
          "output_type": "execute_result",
          "data": {
            "text/html": [
              "<table>\n",
              "    <tr>\n",
              "        <th>cab_type</th>\n",
              "        <th>AVG(price)</th>\n",
              "    </tr>\n",
              "    <tr>\n",
              "        <td>Lyft</td>\n",
              "        <td>19.247476944432993</td>\n",
              "    </tr>\n",
              "    <tr>\n",
              "        <td>Uber</td>\n",
              "        <td>17.141743173645597</td>\n",
              "    </tr>\n",
              "</table>"
            ],
            "text/plain": [
              "[('Lyft', 19.247476944432993), ('Uber', 17.141743173645597)]"
            ]
          },
          "metadata": {
            "tags": []
          },
          "execution_count": 84
        }
      ]
    },
    {
      "cell_type": "code",
      "metadata": {
        "id": "f5nVwOPZmlQG",
        "outputId": "18708200-943a-4888-d944-94a360f87b21",
        "colab": {
          "base_uri": "https://localhost:8080/",
          "height": 116
        }
      },
      "source": [
        "%%sql\n",
        "-- # select minimum price from distance 1.97 to 3.93\n",
        "\n",
        "SELECT cab_type, MIN(price) FROM Cab\n",
        "WHERE distance >= 1.97 AND distance <= 3.93\n",
        "GROUP BY cab_type;"
      ],
      "execution_count": 85,
      "outputs": [
        {
          "output_type": "stream",
          "text": [
            " * sqlite:///testdb.sqlite\n",
            "Done.\n"
          ],
          "name": "stdout"
        },
        {
          "output_type": "execute_result",
          "data": {
            "text/html": [
              "<table>\n",
              "    <tr>\n",
              "        <th>cab_type</th>\n",
              "        <th>MIN(price)</th>\n",
              "    </tr>\n",
              "    <tr>\n",
              "        <td>Lyft</td>\n",
              "        <td>2.5</td>\n",
              "    </tr>\n",
              "    <tr>\n",
              "        <td>Uber</td>\n",
              "        <td>6.0</td>\n",
              "    </tr>\n",
              "</table>"
            ],
            "text/plain": [
              "[('Lyft', 2.5), ('Uber', 6.0)]"
            ]
          },
          "metadata": {
            "tags": []
          },
          "execution_count": 85
        }
      ]
    },
    {
      "cell_type": "code",
      "metadata": {
        "id": "uJPf4GYDmlQK",
        "outputId": "c96fc88a-e8a9-48cc-c502-cbe8e27e1729",
        "colab": {
          "base_uri": "https://localhost:8080/",
          "height": 116
        }
      },
      "source": [
        "%%sql\n",
        "-- # select maximum price from distance 1.97 to 3.93\n",
        "\n",
        "SELECT cab_type, MAX(price) FROM Cab\n",
        "WHERE distance >= 1.97 AND distance <= 3.93\n",
        "GROUP BY cab_type;"
      ],
      "execution_count": 86,
      "outputs": [
        {
          "output_type": "stream",
          "text": [
            " * sqlite:///testdb.sqlite\n",
            "Done.\n"
          ],
          "name": "stdout"
        },
        {
          "output_type": "execute_result",
          "data": {
            "text/html": [
              "<table>\n",
              "    <tr>\n",
              "        <th>cab_type</th>\n",
              "        <th>MAX(price)</th>\n",
              "    </tr>\n",
              "    <tr>\n",
              "        <td>Lyft</td>\n",
              "        <td>92.0</td>\n",
              "    </tr>\n",
              "    <tr>\n",
              "        <td>Uber</td>\n",
              "        <td>80.5</td>\n",
              "    </tr>\n",
              "</table>"
            ],
            "text/plain": [
              "[('Lyft', 92.0), ('Uber', 80.5)]"
            ]
          },
          "metadata": {
            "tags": []
          },
          "execution_count": 86
        }
      ]
    },
    {
      "cell_type": "markdown",
      "metadata": {
        "id": "eiq10VaImlQQ"
      },
      "source": [
        "###### 3.4.3 Distance 3.94 to 5.89"
      ]
    },
    {
      "cell_type": "code",
      "metadata": {
        "id": "whewygeDmlQR",
        "outputId": "cf273d39-0218-42cc-e67e-93e40a2e107d",
        "colab": {
          "base_uri": "https://localhost:8080/",
          "height": 116
        }
      },
      "source": [
        "%%sql\n",
        "-- # select average price from distance 3.94 to 5.89\n",
        "\n",
        "SELECT cab_type, AVG(price) FROM Cab\n",
        "WHERE distance >= 3.94 AND distance <= 5.89\n",
        "GROUP BY cab_type;"
      ],
      "execution_count": 87,
      "outputs": [
        {
          "output_type": "stream",
          "text": [
            " * sqlite:///testdb.sqlite\n",
            "Done.\n"
          ],
          "name": "stdout"
        },
        {
          "output_type": "execute_result",
          "data": {
            "text/html": [
              "<table>\n",
              "    <tr>\n",
              "        <th>cab_type</th>\n",
              "        <th>AVG(price)</th>\n",
              "    </tr>\n",
              "    <tr>\n",
              "        <td>Lyft</td>\n",
              "        <td>25.54245415758896</td>\n",
              "    </tr>\n",
              "    <tr>\n",
              "        <td>Uber</td>\n",
              "        <td>22.335192601067888</td>\n",
              "    </tr>\n",
              "</table>"
            ],
            "text/plain": [
              "[('Lyft', 25.54245415758896), ('Uber', 22.335192601067888)]"
            ]
          },
          "metadata": {
            "tags": []
          },
          "execution_count": 87
        }
      ]
    },
    {
      "cell_type": "code",
      "metadata": {
        "id": "A_MT7m3XmlQV",
        "outputId": "0a8a5d76-cd22-4b99-aff3-1ff5bb5f96ba",
        "colab": {
          "base_uri": "https://localhost:8080/",
          "height": 116
        }
      },
      "source": [
        "%%sql\n",
        "-- # select minimum price from distance 3.94 to 5.89\n",
        "\n",
        "SELECT cab_type, MIN(price) FROM Cab\n",
        "WHERE distance >= 3.94 AND distance <= 5.89\n",
        "GROUP BY cab_type;"
      ],
      "execution_count": 89,
      "outputs": [
        {
          "output_type": "stream",
          "text": [
            " * sqlite:///testdb.sqlite\n",
            "Done.\n"
          ],
          "name": "stdout"
        },
        {
          "output_type": "execute_result",
          "data": {
            "text/html": [
              "<table>\n",
              "    <tr>\n",
              "        <th>cab_type</th>\n",
              "        <th>MIN(price)</th>\n",
              "    </tr>\n",
              "    <tr>\n",
              "        <td>Lyft</td>\n",
              "        <td>3.0</td>\n",
              "    </tr>\n",
              "    <tr>\n",
              "        <td>Uber</td>\n",
              "        <td>7.5</td>\n",
              "    </tr>\n",
              "</table>"
            ],
            "text/plain": [
              "[('Lyft', 3.0), ('Uber', 7.5)]"
            ]
          },
          "metadata": {
            "tags": []
          },
          "execution_count": 89
        }
      ]
    },
    {
      "cell_type": "code",
      "metadata": {
        "id": "f8X03jKTmlQb",
        "outputId": "a749f4bc-06ff-46d9-fa79-21d2753a4356",
        "colab": {
          "base_uri": "https://localhost:8080/",
          "height": 116
        }
      },
      "source": [
        "%%sql\n",
        "-- # select maximum price from distance 3.94 to 5.89\n",
        "\n",
        "SELECT cab_type, MAX(price) FROM Cab\n",
        "WHERE distance >= 3.94 AND distance <= 5.89\n",
        "GROUP BY cab_type;"
      ],
      "execution_count": 90,
      "outputs": [
        {
          "output_type": "stream",
          "text": [
            " * sqlite:///testdb.sqlite\n",
            "Done.\n"
          ],
          "name": "stdout"
        },
        {
          "output_type": "execute_result",
          "data": {
            "text/html": [
              "<table>\n",
              "    <tr>\n",
              "        <th>cab_type</th>\n",
              "        <th>MAX(price)</th>\n",
              "    </tr>\n",
              "    <tr>\n",
              "        <td>Lyft</td>\n",
              "        <td>97.5</td>\n",
              "    </tr>\n",
              "    <tr>\n",
              "        <td>Uber</td>\n",
              "        <td>87.0</td>\n",
              "    </tr>\n",
              "</table>"
            ],
            "text/plain": [
              "[('Lyft', 97.5), ('Uber', 87.0)]"
            ]
          },
          "metadata": {
            "tags": []
          },
          "execution_count": 90
        }
      ]
    },
    {
      "cell_type": "markdown",
      "metadata": {
        "id": "_npz9h03mlQg"
      },
      "source": [
        "###### 3.4.4 Distance 5.90 to 7.86"
      ]
    },
    {
      "cell_type": "code",
      "metadata": {
        "id": "DoOskG44mlQh",
        "outputId": "aa161c1f-197f-4f8b-c59f-ee36679fc6de",
        "colab": {
          "base_uri": "https://localhost:8080/",
          "height": 116
        }
      },
      "source": [
        "%%sql\n",
        "-- # select average price from distance 5.90 to 7.86\n",
        "\n",
        "SELECT cab_type, AVG(price) FROM Cab\n",
        "WHERE distance >= 5.90 AND distance <= 7.86\n",
        "GROUP BY cab_type;"
      ],
      "execution_count": 91,
      "outputs": [
        {
          "output_type": "stream",
          "text": [
            " * sqlite:///testdb.sqlite\n",
            "Done.\n"
          ],
          "name": "stdout"
        },
        {
          "output_type": "execute_result",
          "data": {
            "text/html": [
              "<table>\n",
              "    <tr>\n",
              "        <th>cab_type</th>\n",
              "        <th>AVG(price)</th>\n",
              "    </tr>\n",
              "    <tr>\n",
              "        <td>Lyft</td>\n",
              "        <td>30.1</td>\n",
              "    </tr>\n",
              "    <tr>\n",
              "        <td>Uber</td>\n",
              "        <td>26.106672932330827</td>\n",
              "    </tr>\n",
              "</table>"
            ],
            "text/plain": [
              "[('Lyft', 30.1), ('Uber', 26.106672932330827)]"
            ]
          },
          "metadata": {
            "tags": []
          },
          "execution_count": 91
        }
      ]
    },
    {
      "cell_type": "code",
      "metadata": {
        "id": "cQ-SaerVmlQk",
        "outputId": "ba6e104f-dd21-4625-f589-2ba8752029a6",
        "colab": {
          "base_uri": "https://localhost:8080/",
          "height": 116
        }
      },
      "source": [
        "%%sql\n",
        "-- # select minimum price from distance 5.90 to 7.86\n",
        "\n",
        "SELECT cab_type, MIN(price) FROM Cab\n",
        "WHERE distance >= 5.90 AND distance <= 7.86\n",
        "GROUP BY cab_type;"
      ],
      "execution_count": 92,
      "outputs": [
        {
          "output_type": "stream",
          "text": [
            " * sqlite:///testdb.sqlite\n",
            "Done.\n"
          ],
          "name": "stdout"
        },
        {
          "output_type": "execute_result",
          "data": {
            "text/html": [
              "<table>\n",
              "    <tr>\n",
              "        <th>cab_type</th>\n",
              "        <th>MIN(price)</th>\n",
              "    </tr>\n",
              "    <tr>\n",
              "        <td>Lyft</td>\n",
              "        <td>10.5</td>\n",
              "    </tr>\n",
              "    <tr>\n",
              "        <td>Uber</td>\n",
              "        <td>10.0</td>\n",
              "    </tr>\n",
              "</table>"
            ],
            "text/plain": [
              "[('Lyft', 10.5), ('Uber', 10.0)]"
            ]
          },
          "metadata": {
            "tags": []
          },
          "execution_count": 92
        }
      ]
    },
    {
      "cell_type": "code",
      "metadata": {
        "id": "-HefEOHWmlQs",
        "outputId": "aee18478-cd0d-4b69-aba3-246ac8a95877",
        "colab": {
          "base_uri": "https://localhost:8080/",
          "height": 116
        }
      },
      "source": [
        "%%sql\n",
        "-- # select maximum price from distance 5.90 to 7.86\n",
        "\n",
        "SELECT cab_type, MAX(price) FROM Cab\n",
        "WHERE distance >= 5.90 AND distance <= 7.86\n",
        "GROUP BY cab_type;"
      ],
      "execution_count": 93,
      "outputs": [
        {
          "output_type": "stream",
          "text": [
            " * sqlite:///testdb.sqlite\n",
            "Done.\n"
          ],
          "name": "stdout"
        },
        {
          "output_type": "execute_result",
          "data": {
            "text/html": [
              "<table>\n",
              "    <tr>\n",
              "        <th>cab_type</th>\n",
              "        <th>MAX(price)</th>\n",
              "    </tr>\n",
              "    <tr>\n",
              "        <td>Lyft</td>\n",
              "        <td>65.0</td>\n",
              "    </tr>\n",
              "    <tr>\n",
              "        <td>Uber</td>\n",
              "        <td>89.5</td>\n",
              "    </tr>\n",
              "</table>"
            ],
            "text/plain": [
              "[('Lyft', 65.0), ('Uber', 89.5)]"
            ]
          },
          "metadata": {
            "tags": []
          },
          "execution_count": 93
        }
      ]
    },
    {
      "cell_type": "code",
      "metadata": {
        "id": "k-1mKr0xmlQz",
        "outputId": "6c864e4e-c64a-4fd4-8bff-95e52b704429",
        "colab": {
          "base_uri": "https://localhost:8080/",
          "height": 129
        }
      },
      "source": [
        "%%sql\n",
        "-- # merge both Cab and Weather tables \n",
        "\n",
        "DROP TABLE IF EXISTS Cab_Weather;\n",
        "\n",
        "CREATE TABLE Cab_Weather AS\n",
        "SELECT * FROM Cab\n",
        "INNER JOIN Weather \n",
        "ON Cab.minute = Weather.minute\n",
        "AND Cab.hour = Weather.hour\n",
        "AND Cab.day = Weather.day\n",
        "AND Cab.month = Weather.month\n",
        "AND Cab.source = Weather.location;\n",
        "\n",
        "SELECT COUNT(*) FROM Cab_Weather;"
      ],
      "execution_count": 94,
      "outputs": [
        {
          "output_type": "stream",
          "text": [
            " * sqlite:///testdb.sqlite\n",
            "Done.\n",
            "Done.\n",
            "Done.\n"
          ],
          "name": "stdout"
        },
        {
          "output_type": "execute_result",
          "data": {
            "text/html": [
              "<table>\n",
              "    <tr>\n",
              "        <th>COUNT(*)</th>\n",
              "    </tr>\n",
              "    <tr>\n",
              "        <td>58796</td>\n",
              "    </tr>\n",
              "</table>"
            ],
            "text/plain": [
              "[(58796,)]"
            ]
          },
          "metadata": {
            "tags": []
          },
          "execution_count": 94
        }
      ]
    },
    {
      "cell_type": "markdown",
      "metadata": {
        "id": "vjNnlK1ImlQ8"
      },
      "source": [
        "## <font color='#2F4F4F'>4. Summary of Findings</font>"
      ]
    },
    {
      "cell_type": "markdown",
      "metadata": {
        "id": "jIFl28P4mlQ8"
      },
      "source": [
        "The following are the prices for Lyft:\n",
        "- overall average of 16.54, overall minimum 2.5, overall maximum 97.5\n",
        "- average 17.3, minimum 2.5, maximum 97.5 from midnight to 6 AM\n",
        "- average 17.35, minimum 2.5, maximum 89.0 from 7 AM to 12 PM\n",
        "- average 17.33, minimum 2.5, maximum 92.0 from 1 PM to 6 PM\n",
        "- average 17.37, minimum 2.5, maximum 92.0 from 7 PM to 11 PM\n",
        "\n",
        "The following are the prices for Uber:\n",
        "- overall average of 15.79, overall minimum 4.5, overall maximum 89.5\n",
        "- average 15.80, minimum 4.5, maximum 81.5 from midnight to 6 AM\n",
        "- average 15.75, minimum 4.5, maximum 80.5 from 7 AM to 12 PM\n",
        "- average 15.80, minimum 4.5, maximum 89.5 from 1 PM to 6 PM\n",
        "- average 15.81, minimum 4.5, maximum 76.0 from 7 PM to 11 PM\n",
        "\n",
        "Minimum distance is 0.02, maximum distance is 7.86.\n",
        "\n",
        "**For distance 0.00-1.96:**\n",
        "Lyft has average price 14.07, minimum price 2.5, and maximum price 65.0.\n",
        "Uber has average price 13.37, minimum price 4.5, and maximum price 61.5.\n",
        "\n",
        "**For distance 1.97-3.93:**\n",
        "Lyft has average price 19.24, minimum price 2.5, and maximum price 92.0.\n",
        "Uber has average price 17.14, minimum price 6.0, and maximum price 80.5.\n",
        "\n",
        "**For distance 3.94-5.89:**\n",
        "Lyft has average price 25.54,  minimum price 3.0, and maximum price 97.5.\n",
        "Uber has average price 22.33, minimum price 7.5, and maximum price 87.0.\n",
        "\n",
        "**For distance 5.90-7.86**\n",
        "Lyft has average price 30.1, minimum price 10.5, and maximum price 65.0.\n",
        "Uber has average price 26.10, minimum price 10.0, and maximum price 89.5."
      ]
    },
    {
      "cell_type": "markdown",
      "metadata": {
        "id": "2L_oFTapmlQ9"
      },
      "source": [
        "## <font color='#2F4F4F'>5. Recommendations</font>\n",
        "\n",
        "The Ride-Sharing Startup management team can use this information as a starting point then later adjust accordingly based on user feedback."
      ]
    },
    {
      "cell_type": "markdown",
      "metadata": {
        "id": "_ysNrvx5mlQ-"
      },
      "source": [
        "## <font color='#2F4F4F'>6. Challenging your Solution</font>\n",
        "\n",
        "### a) Did we have the right data?\n",
        "Yes.\n",
        "\n",
        "### b) Did we have the right question?\n",
        "Yes.\n",
        "\n",
        "### Is further analysis required?\n",
        "Yes. Such as how a combination of time and distance affects prices (what's the average price for traveling to Financial District at 7 AM compared to at 2 PM, etc.), how weather affects price, and so on."
      ]
    }
  ]
}